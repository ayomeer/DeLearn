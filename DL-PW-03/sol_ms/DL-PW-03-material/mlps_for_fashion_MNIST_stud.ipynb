{
 "cells": [
  {
   "cell_type": "code",
   "execution_count": 1,
   "id": "07ec37d7-f7cb-4646-a2dd-9dab66239a30",
   "metadata": {
    "tags": []
   },
   "outputs": [],
   "source": [
    "import torch\n",
    "from torch.utils.data import DataLoader\n",
    "from torchvision import datasets\n",
    "from torchvision.transforms import ToTensor\n",
    "from torchsummary import summary\n",
    "import numpy as np\n",
    "import matplotlib.pyplot as plt"
   ]
  },
  {
   "cell_type": "code",
   "execution_count": 24,
   "id": "ae993c27",
   "metadata": {},
   "outputs": [
    {
     "name": "stdout",
     "output_type": "stream",
     "text": [
      "cpu\n"
     ]
    },
    {
     "data": {
      "text/plain": [
       "False"
      ]
     },
     "execution_count": 24,
     "metadata": {},
     "output_type": "execute_result"
    }
   ],
   "source": [
    "if torch.cuda.is_available(): \n",
    " dev = \"cuda:0\" \n",
    "else: \n",
    " dev = \"cpu\" \n",
    "device = torch.device(dev) \n",
    "print(dev)"
   ]
  },
  {
   "cell_type": "markdown",
   "id": "e2d8a986-1cb2-483b-9bd8-0f71d69fa9e8",
   "metadata": {
    "tags": []
   },
   "source": [
    "### Loading Data"
   ]
  },
  {
   "cell_type": "code",
   "execution_count": 2,
   "id": "4ba6b0c6-3f55-40dd-ba32-6f6aad8f1437",
   "metadata": {},
   "outputs": [],
   "source": [
    "training_data = datasets.mnist.FashionMNIST(root=\"data\", train=True, download=True, transform=ToTensor())\n",
    "test_data = datasets.mnist.FashionMNIST(root=\"data\", train=False, download=True, transform=ToTensor())"
   ]
  },
  {
   "cell_type": "code",
   "execution_count": 3,
   "id": "5c2da4ed-af9a-4fc7-b59f-135b51241d2f",
   "metadata": {
    "tags": []
   },
   "outputs": [],
   "source": [
    "training_data, validation_data = torch.utils.data.random_split(training_data, [50000, 10000])"
   ]
  },
  {
   "cell_type": "code",
   "execution_count": 4,
   "id": "22b30c81-d89f-4947-aa09-ab8c70dd262c",
   "metadata": {},
   "outputs": [
    {
     "name": "stdout",
     "output_type": "stream",
     "text": [
      "50000 10000 10000\n"
     ]
    }
   ],
   "source": [
    "print(len(training_data),len(validation_data),len(test_data))"
   ]
  },
  {
   "cell_type": "markdown",
   "id": "6832efcb-c191-42f2-93f5-60ff2e99e934",
   "metadata": {
    "tags": []
   },
   "source": [
    "### Exercise 2: Fixed MLP with Increasing Training Dataset\n",
    "\n",
    "Create a MLP with one hidden layer with 200 units for Fashion MNIST classification. Use ReLU activation.\n",
    "\n",
    "Use a random fraction of the training set (split above) to perform the training. Always use the same validation set.\n",
    "\n",
    "Use SGD and cross-entropy loss and suitable learning rate.\n",
    "\n",
    "Start with a single small batch for training (batch size 8) and make sure that you can overfit, i.e. bring the training accuracy to 100%.\n",
    "\n",
    "Then, gradually increase the training set. Let it grow until you obtain values for the training and the validation loss which no longer indicate overfitting. Use a fixed batch size (batchsize 32)."
   ]
  },
  {
   "cell_type": "markdown",
   "id": "7a65fabc-6c12-4e88-8a47-0f5ce337103d",
   "metadata": {},
   "source": [
    "#### MLP Class"
   ]
  },
  {
   "cell_type": "code",
   "execution_count": 5,
   "id": "b02cf040-3853-4e48-afa7-4666f8c46d75",
   "metadata": {},
   "outputs": [],
   "source": [
    "# define a method that provides an instance of an MLP which uses as a list of units per layer as input\n",
    "\n",
    "\n",
    "def mlp(units=[28 * 28, 200, 10]):\n",
    "    \"\"\"\n",
    "    Creates an instance of an MLP with layers as specified in the 'units'-list (list of integers).\n",
    "    \"\"\"\n",
    "    return torch.nn.Sequential(\n",
    "        torch.nn.Flatten(),\n",
    "        torch.nn.Linear(units[0], units[1]),\n",
    "        torch.nn.ReLU(),\n",
    "        torch.nn.Linear(units[1], units[2]),\n",
    "    )\n",
    "\n",
    "    # YOUR CODE HERE #"
   ]
  },
  {
   "cell_type": "code",
   "execution_count": 6,
   "id": "5c108c38-1e25-4353-b95a-1ecb00c43fb1",
   "metadata": {},
   "outputs": [
    {
     "name": "stdout",
     "output_type": "stream",
     "text": [
      "----------------------------------------------------------------\n",
      "        Layer (type)               Output Shape         Param #\n",
      "================================================================\n",
      "           Flatten-1                  [-1, 784]               0\n",
      "            Linear-2                  [-1, 200]         157,000\n",
      "              ReLU-3                  [-1, 200]               0\n",
      "            Linear-4                   [-1, 10]           2,010\n",
      "================================================================\n",
      "Total params: 159,010\n",
      "Trainable params: 159,010\n",
      "Non-trainable params: 0\n",
      "----------------------------------------------------------------\n",
      "Input size (MB): 0.00\n",
      "Forward/backward pass size (MB): 0.01\n",
      "Params size (MB): 0.61\n",
      "Estimated Total Size (MB): 0.62\n",
      "----------------------------------------------------------------\n"
     ]
    }
   ],
   "source": [
    "# create an instance and its summary\n",
    "\n",
    "model = mlp()\n",
    "from torchsummary import summary\n",
    "summary(model, (1,28,28))"
   ]
  },
  {
   "cell_type": "markdown",
   "id": "29bfd65c-d84d-401e-a209-8d4de656fee3",
   "metadata": {},
   "source": [
    "#### Training Loop "
   ]
  },
  {
   "cell_type": "code",
   "execution_count": 19,
   "id": "c6979eb0-1b61-44df-8f83-3ad42bc6e226",
   "metadata": {},
   "outputs": [],
   "source": [
    "def train_eval(model, lr, nepochs, nbatch, training_data, validation_data, verbose=True):\n",
    "    \"\"\"\n",
    "    Performs the training of a model with given learning rate (lr), \n",
    "    number of epochs (nepochs), batchsize (nbatch) and training and validation data.\n",
    "    Suitable data loaders are instantiated for the training and validation datasets.\n",
    "    Keep book about cost and accuracy (per epoch) for both training and validation set.\n",
    "    \"\"\"\n",
    "    cost_hist = []\n",
    "    cost_hist_test = []\n",
    "    acc_hist = []\n",
    "    acc_hist_test = []\n",
    "\n",
    "\n",
    "    # YOUR CODE HERE #\n",
    "    cost_ce = torch.nn.CrossEntropyLoss()\n",
    "    optimizer = torch.optim.SGD(model.parameters(), lr=lr)\n",
    "\n",
    "    training_loader = DataLoader(training_data, batch_size=nbatch, shuffle=True)\n",
    "    test_loader = DataLoader(validation_data, batch_size=nbatch, shuffle=True)\n",
    "    nbatches_train = len(training_loader)\n",
    "    nbatches_test = len(test_loader)\n",
    "    size_train = len(training_loader.dataset)\n",
    "    size_test = len(test_loader.dataset)\n",
    "\n",
    "    for epoch in range(nepochs):\n",
    "        acc = 0.0\n",
    "        cost = 0.0\n",
    "        for X,Y in training_loader:\n",
    "            pred = model(X)\n",
    "            loss = cost_ce(pred, Y)\n",
    "\n",
    "            optimizer.zero_grad()\n",
    "            loss.backward()\n",
    "            optimizer.step()\n",
    "\n",
    "            cost += cost_ce(pred, Y).item()\n",
    "            acc += (pred.argmax(dim=1) == Y).type(torch.float).sum().item()\n",
    "\n",
    "        cost /= nbatches_train\n",
    "        acc /= size_train\n",
    "        \n",
    "        cost_hist.append(cost)\n",
    "        acc_hist.append(acc)\n",
    "\n",
    "        acc_test = 0.0\n",
    "        cost_test = 0.0\n",
    "        with torch.no_grad():\n",
    "            for X,Y in test_loader:\n",
    "                pred = model(X)\n",
    "                cost_test += cost_ce(pred, Y).item()\n",
    "                acc_test += (pred.argmax(dim=1) == Y).type(torch.float).sum().item()\n",
    "        cost_test /= nbatches_test\n",
    "        acc_test /= size_test\n",
    "                \n",
    "        cost_hist_test.append(cost_test)\n",
    "        acc_hist_test.append(acc_test)\n",
    "    \n",
    "        if verbose:\n",
    "            print(f\"Epoch {epoch}: {cost}, {acc}, {cost_test}, {acc_test}\")\n",
    "    \n",
    "    return cost_hist, cost_hist_test, acc_hist, acc_hist_test"
   ]
  },
  {
   "cell_type": "markdown",
   "id": "c3f7a9da-8c34-42c4-8907-3cc7990227e4",
   "metadata": {},
   "source": [
    "#### First Training\n",
    "\n",
    "Run a first training with only one small training batch (e.g. with a single batch of 64 samples). \n",
    "The small training set can be created by using the functionality `torch.utils.data.random_split` already used above. As validation set use the `validation_data` created above.  \n",
    "\n",
    "This training run can be used to test whether the model and training loop are properly implemented. Explain why and in what sense it can be used as test.\n",
    "\n",
    "This is something you can always do when training a model."
   ]
  },
  {
   "cell_type": "code",
   "execution_count": 16,
   "id": "37778e0b-7f07-4af8-8f9e-45e6ba864248",
   "metadata": {},
   "outputs": [
    {
     "name": "stdout",
     "output_type": "stream",
     "text": [
      "32 49968\n",
      "Epoch 0: 2.296260356903076, 0.09375, 2.243770759326581, 0.2555\n",
      "Epoch 1: 2.161695718765259, 0.5, 2.20270183444404, 0.288\n",
      "Epoch 2: 2.0480830669403076, 0.5, 2.169079734494511, 0.2692\n",
      "Epoch 3: 1.9453049898147583, 0.46875, 2.1357462924128523, 0.2521\n",
      "Epoch 4: 1.84913969039917, 0.46875, 2.0997569602899278, 0.2458\n",
      "Epoch 5: 1.756587028503418, 0.5, 2.063562524204437, 0.2488\n",
      "Epoch 6: 1.6706053018569946, 0.46875, 2.0223330126022, 0.2677\n",
      "Epoch 7: 1.5892953872680664, 0.46875, 1.9784932936342379, 0.2815\n",
      "Epoch 8: 1.513047456741333, 0.5, 1.9364368298564094, 0.2991\n",
      "Epoch 9: 1.4422141313552856, 0.5, 1.8922986976635723, 0.3252\n",
      "Epoch 10: 1.3757039308547974, 0.53125, 1.8509215017477163, 0.3522\n",
      "Epoch 11: 1.3131601810455322, 0.625, 1.8092862489505317, 0.3808\n",
      "Epoch 12: 1.2538437843322754, 0.625, 1.7699947856104792, 0.398\n",
      "Epoch 13: 1.1981323957443237, 0.71875, 1.7300040390544806, 0.4202\n",
      "Epoch 14: 1.1458592414855957, 0.75, 1.6949191200085723, 0.4326\n",
      "Epoch 15: 1.0962249040603638, 0.78125, 1.6571981465092862, 0.4493\n",
      "Epoch 16: 1.0492349863052368, 0.78125, 1.6245199030580613, 0.4608\n",
      "Epoch 17: 1.0045274496078491, 0.78125, 1.5905826537372967, 0.4777\n",
      "Epoch 18: 0.9616207480430603, 0.78125, 1.5609311707103595, 0.4875\n",
      "Epoch 19: 0.9208440184593201, 0.78125, 1.529587981799921, 0.5002\n",
      "Epoch 20: 0.8818209171295166, 0.8125, 1.5035571137937114, 0.5083\n",
      "Epoch 21: 0.8447309732437134, 0.8125, 1.477951541114539, 0.519\n",
      "Epoch 22: 0.8093772530555725, 0.875, 1.4536489560581243, 0.527\n",
      "Epoch 23: 0.7757601737976074, 0.90625, 1.4295878018053194, 0.5353\n",
      "Epoch 24: 0.7434853911399841, 0.90625, 1.4084587226660488, 0.542\n",
      "Epoch 25: 0.7129386067390442, 0.90625, 1.3877647421992243, 0.5483\n",
      "Epoch 26: 0.6837210655212402, 0.90625, 1.3678720543940608, 0.5536\n",
      "Epoch 27: 0.6559349894523621, 0.90625, 1.350745112179948, 0.558\n",
      "Epoch 28: 0.6294035315513611, 0.90625, 1.33334384863369, 0.5633\n",
      "Epoch 29: 0.6040791869163513, 0.90625, 1.3178382296912587, 0.5672\n",
      "Epoch 30: 0.5801993012428284, 0.90625, 1.3043369169052417, 0.571\n",
      "Epoch 31: 0.5573087930679321, 0.90625, 1.2908152075240407, 0.5742\n",
      "Epoch 32: 0.5354625582695007, 0.90625, 1.2789605246565212, 0.5764\n",
      "Epoch 33: 0.5146880745887756, 0.90625, 1.265633156886116, 0.5792\n",
      "Epoch 34: 0.49482282996177673, 0.90625, 1.2566603102242222, 0.5814\n",
      "Epoch 35: 0.47599416971206665, 0.90625, 1.2466006317077734, 0.5837\n",
      "Epoch 36: 0.45786094665527344, 0.9375, 1.236947967602422, 0.5853\n",
      "Epoch 37: 0.4406600892543793, 0.96875, 1.2285845742438928, 0.5865\n",
      "Epoch 38: 0.4242626428604126, 0.96875, 1.2210007799319185, 0.5878\n",
      "Epoch 39: 0.4085807204246521, 0.96875, 1.213537743487678, 0.5882\n",
      "Epoch 40: 0.3936840295791626, 1.0, 1.206583922853866, 0.5886\n",
      "Epoch 41: 0.37949416041374207, 1.0, 1.2017059379492323, 0.5897\n",
      "Epoch 42: 0.36592838168144226, 1.0, 1.1953279174173983, 0.5911\n",
      "Epoch 43: 0.3531206548213959, 1.0, 1.1905870757544765, 0.592\n",
      "Epoch 44: 0.3407546877861023, 1.0, 1.1853040921421478, 0.592\n",
      "Epoch 45: 0.329018771648407, 1.0, 1.180162012767487, 0.5927\n",
      "Epoch 46: 0.31777212023735046, 1.0, 1.1770502726871745, 0.5931\n",
      "Epoch 47: 0.30711495876312256, 1.0, 1.1732459574842606, 0.5934\n",
      "Epoch 48: 0.2968369126319885, 1.0, 1.1683487225645266, 0.5935\n",
      "Epoch 49: 0.2870572805404663, 1.0, 1.1669387811669907, 0.5939\n",
      "Epoch 50: 0.2776836156845093, 1.0, 1.1631805081717885, 0.5941\n",
      "Epoch 51: 0.26872938871383667, 1.0, 1.1608745053934213, 0.5929\n",
      "Epoch 52: 0.2601633667945862, 1.0, 1.157972607178429, 0.5936\n",
      "Epoch 53: 0.25196850299835205, 1.0, 1.1560379474307783, 0.5929\n",
      "Epoch 54: 0.24412362277507782, 1.0, 1.154596005004054, 0.5925\n",
      "Epoch 55: 0.23660703003406525, 1.0, 1.152739959593398, 0.5911\n",
      "Epoch 56: 0.2294687032699585, 1.0, 1.1508889181164508, 0.5909\n",
      "Epoch 57: 0.22253811359405518, 1.0, 1.1496170743966636, 0.5898\n",
      "Epoch 58: 0.21592295169830322, 1.0, 1.1479425856861443, 0.5897\n",
      "Epoch 59: 0.2096019834280014, 1.0, 1.1472733028399678, 0.5894\n",
      "Epoch 60: 0.2034745067358017, 1.0, 1.1466488230723542, 0.5891\n",
      "Epoch 61: 0.19768159091472626, 1.0, 1.1460878220609962, 0.5884\n",
      "Epoch 62: 0.19205842912197113, 1.0, 1.1442865230404913, 0.5889\n",
      "Epoch 63: 0.1866869479417801, 1.0, 1.1439729599526134, 0.5881\n",
      "Epoch 64: 0.18150895833969116, 1.0, 1.1432673110367773, 0.5881\n",
      "Epoch 65: 0.17653435468673706, 1.0, 1.1442662258498586, 0.5875\n",
      "Epoch 66: 0.1717626005411148, 1.0, 1.1425434358584614, 0.5872\n",
      "Epoch 67: 0.1671690046787262, 1.0, 1.142462850378725, 0.5867\n",
      "Epoch 68: 0.16273133456707, 1.0, 1.1425387560369107, 0.5858\n",
      "Epoch 69: 0.15847933292388916, 1.0, 1.1435786156227794, 0.5854\n",
      "Epoch 70: 0.15438657999038696, 1.0, 1.142779590032352, 0.5849\n",
      "Epoch 71: 0.15044689178466797, 1.0, 1.143531238689971, 0.5846\n",
      "Epoch 72: 0.1466403603553772, 1.0, 1.1427704585246004, 0.5841\n",
      "Epoch 73: 0.14297424256801605, 1.0, 1.1430351798907636, 0.5841\n",
      "Epoch 74: 0.13942958414554596, 1.0, 1.1443478145157566, 0.5842\n",
      "Epoch 75: 0.1360417902469635, 1.0, 1.1432864606951754, 0.5844\n",
      "Epoch 76: 0.13274173438549042, 1.0, 1.1445601651082025, 0.5841\n",
      "Epoch 77: 0.12956427037715912, 1.0, 1.1445953282304466, 0.5836\n",
      "Epoch 78: 0.1264982670545578, 1.0, 1.1457847566269457, 0.5835\n",
      "Epoch 79: 0.12354476749897003, 1.0, 1.1457462866847126, 0.5834\n",
      "Epoch 80: 0.12069215625524521, 1.0, 1.1464094443443102, 0.5835\n",
      "Epoch 81: 0.11791321635246277, 1.0, 1.1471191595156733, 0.5833\n",
      "Epoch 82: 0.11525113135576248, 1.0, 1.1484184847853054, 0.5834\n",
      "Epoch 83: 0.11266689002513885, 1.0, 1.1482064942963206, 0.5827\n",
      "Epoch 84: 0.11017243564128876, 1.0, 1.1489114393822302, 0.5824\n",
      "Epoch 85: 0.10775968432426453, 1.0, 1.1496385057894185, 0.5829\n",
      "Epoch 86: 0.10541106015443802, 1.0, 1.1501513993778167, 0.582\n",
      "Epoch 87: 0.10316084325313568, 1.0, 1.151168855234457, 0.582\n",
      "Epoch 88: 0.10096030682325363, 1.0, 1.1520626862970784, 0.5815\n",
      "Epoch 89: 0.09884804487228394, 1.0, 1.1522364932508133, 0.5819\n",
      "Epoch 90: 0.09679204970598221, 1.0, 1.15403394177318, 0.5817\n",
      "Epoch 91: 0.09479682147502899, 1.0, 1.1542035227004712, 0.5821\n",
      "Epoch 92: 0.09287793189287186, 1.0, 1.1567652792976306, 0.5816\n",
      "Epoch 93: 0.09099247306585312, 1.0, 1.1559859533279468, 0.5826\n",
      "Epoch 94: 0.08918773382902145, 1.0, 1.1577803269742777, 0.5826\n",
      "Epoch 95: 0.08742906898260117, 1.0, 1.1580923390083802, 0.5826\n",
      "Epoch 96: 0.0857158675789833, 1.0, 1.1582279002514129, 0.5825\n",
      "Epoch 97: 0.08406372368335724, 1.0, 1.1601598904536554, 0.5829\n",
      "Epoch 98: 0.08245673775672913, 1.0, 1.1603830351997106, 0.5826\n",
      "Epoch 99: 0.08089418709278107, 1.0, 1.1612016926177393, 0.5825\n"
     ]
    },
    {
     "data": {
      "text/plain": [
       "[<matplotlib.lines.Line2D at 0x194c6eb64d0>]"
      ]
     },
     "execution_count": 16,
     "metadata": {},
     "output_type": "execute_result"
    },
    {
     "data": {
      "image/png": "[encoded data removed]",
      "text/plain": [
       "<Figure size 640x480 with 1 Axes>"
      ]
     },
     "metadata": {},
     "output_type": "display_data"
    },
    {
     "data": {
      "image/png": "[encoded data removed]",
      "text/plain": [
       "<Figure size 640x480 with 1 Axes>"
      ]
     },
     "metadata": {},
     "output_type": "display_data"
    }
   ],
   "source": [
    "nbatch = 32\n",
    "nbatches = 1\n",
    "nepochs = 100\n",
    "lr = 0.1\n",
    "\n",
    "trainsize = nbatches*nbatch\n",
    "trainset, rest = torch.utils.data.random_split(training_data, [trainsize, 50000-trainsize])\n",
    "print(len(trainset), len(rest))\n",
    "\n",
    "model = mlp([28*28, 200, 10])\n",
    "cost_train, cost_valid, acc_train, acc_valid = train_eval(model, lr, nepochs, nbatch, trainset, validation_data)\n",
    "\n",
    "plt.figure(1)\n",
    "plt.plot(range(nepochs), cost_train, \"b-\")\n",
    "plt.plot(range(nepochs), cost_valid, \"r-\")\n",
    "\n",
    "plt.figure(2)\n",
    "plt.plot(range(nepochs), acc_train, \"b-\")\n",
    "plt.plot(range(nepochs), acc_valid, \"r-\")"
   ]
  },
  {
   "cell_type": "markdown",
   "id": "b66c8ceb-8083-4e62-b123-b026aef32e22",
   "metadata": {},
   "source": [
    "#### Evaluate Train and Validation Performance \n",
    "\n",
    "Now run several trainings with the same small model (one hidden layer) and explore for different number of training samples (different number of batches with 32 samples) used, how the train and validation performance evolve (cost and accuracy). Make sure that you train sufficiently long to obtain representative values for cost and accuracy with the given settings. Always use the same validation set (with 10'000 samples).\n",
    "\n",
    "Create plots with training and validation performance vs number of training batches (one for cost and one for accuracy). Use the performance characteristics obtained at the end.\n",
    "\n",
    "Discuss the whether there is a sufficient number of training samples for the given problem at hand. Specify a minimum number if applicable. Also consider whether you are in the underfitting regime.\n",
    "\n",
    "Hint: Specify a list with the number of training batches you would like to perform trainings. Try to be economic with the resources used - try to keep the number of trainings limited."
   ]
  },
  {
   "cell_type": "code",
   "execution_count": 21,
   "id": "50e0bb95-7392-46a5-9481-640e9177d5b1",
   "metadata": {},
   "outputs": [
    {
     "name": "stdout",
     "output_type": "stream",
     "text": [
      "32 49968\n",
      "Run with 1 batches\n",
      "64 49936\n",
      "Run with 2 batches\n",
      "160 49840\n",
      "Run with 5 batches\n",
      "320 49680\n",
      "Run with 10 batches\n",
      "640 49360\n",
      "Run with 20 batches\n",
      "1600 48400\n",
      "Run with 50 batches\n",
      "3200 46800\n",
      "Run with 100 batches\n",
      "6400 43600\n",
      "Run with 200 batches\n",
      "16000 34000\n",
      "Run with 500 batches\n"
     ]
    },
    {
     "data": {
      "text/plain": [
       "Text(0, 0.5, 'Accuracy')"
      ]
     },
     "execution_count": 21,
     "metadata": {},
     "output_type": "execute_result"
    },
    {
     "data": {
      "image/png": "[encoded data removed]",
      "text/plain": [
       "<Figure size 640x480 with 1 Axes>"
      ]
     },
     "metadata": {},
     "output_type": "display_data"
    },
    {
     "data": {
      "image/png": "[encoded data removed]",
      "text/plain": [
       "<Figure size 640x480 with 1 Axes>"
      ]
     },
     "metadata": {},
     "output_type": "display_data"
    },
    {
     "data": {
      "image/png": "[encoded data removed]",
      "text/plain": [
       "<Figure size 640x480 with 1 Axes>"
      ]
     },
     "metadata": {},
     "output_type": "display_data"
    }
   ],
   "source": [
    "cost_train_list = []\n",
    "cost_valid_list = []\n",
    "acc_train_list = []\n",
    "acc_valid_list = []\n",
    "nbatches_list = [1,2,5,10,20,50,100,200,500]\n",
    "for nbatches in nbatches_list:\n",
    "    nbatch = 32\n",
    "    nepochs = 100\n",
    "    lr = 0.1\n",
    "\n",
    "    trainsize = nbatches*nbatch\n",
    "    trainset, rest = torch.utils.data.random_split(training_data, [trainsize, 50000-trainsize])\n",
    "    print(len(trainset), len(rest))\n",
    "\n",
    "    model = mlp([28*28, 200, 10])\n",
    "    cost_train, cost_valid, acc_train, acc_valid = train_eval(model, lr, nepochs, nbatch, trainset, validation_data, verbose=False)\n",
    "    cost_train_list.append(cost_train[-1])\n",
    "    cost_valid_list.append(cost_valid[-1])\n",
    "    acc_train_list.append(acc_train[-1])\n",
    "    acc_valid_list.append(acc_valid[-1])\n",
    "\n",
    "    print(f\"Run with {nbatches} batches complete\")\n",
    "\n",
    "plt.figure(1)\n",
    "plt.plot(nbatches_list, cost_train_list, \"b-\")\n",
    "plt.plot(nbatches_list, cost_valid_list, \"r-\")\n",
    "plt.title(\"Cost\")\n",
    "plt.xlabel(\"nbatches\")\n",
    "plt.ylabel(\"Cost\")\n",
    "\n",
    "plt.figure(2)\n",
    "plt.plot(nbatches_list, acc_train_list, \"b-\")\n",
    "plt.plot(nbatches_list, acc_valid_list, \"r-\")\n",
    "plt.figure(\"Accuracy\")\n",
    "plt.xlabel(\"nbatches\")\n",
    "plt.ylabel(\"Accuracy\")"
   ]
  },
  {
   "cell_type": "markdown",
   "id": "c5e0c6ba-8f5e-4470-b110-1e52d86baa59",
   "metadata": {},
   "source": [
    "#### Comments: YOUR comments"
   ]
  },
  {
   "cell_type": "markdown",
   "id": "2f4d08b0-8ad2-4fc1-98e8-39dd29f204a1",
   "metadata": {},
   "source": [
    "### Exercise 3: Evaluate Different Model Complexities\n",
    "\n",
    "Use the same functionality implemented above (create MLP model, train and evaluate model) to evaluate different model complexities: Number of layers and number of units per layer.\n",
    "\n",
    "Start with the small model used in Exercise 2. Then gradually increase the model complexity. Do this along two dimensions:\n",
    "* a single hidden layer, but increasing the number of units.\n",
    "* a fixed number of units per (hidden) layer, but increase the number of layers.\n",
    "Make sure that you reach the overfitting regime (in either case).\n",
    "\n",
    "Always use the full training set with 50'000 samples.\n",
    "\n",
    "Again make sure that you train sufficiently long so that the obtained train and validation performance measures (cost, accuracy) are representative.\n",
    "\n",
    "Create plots with training and validation performance (cost, accuracy) vs model complexity - one plot with number of units for the single hidden layer case, and one for varying number of layers. \n",
    "\n",
    "Again use the performance characteristics obtained at the end. \n",
    "\n",
    "Finally, discuss your findings."
   ]
  },
  {
   "cell_type": "code",
   "execution_count": null,
   "id": "43dcd0fc-3fd6-4b07-a594-e7f6a6336e7f",
   "metadata": {},
   "outputs": [],
   "source": [
    "# YOUR CODE HERE #\n",
    "# several iterations with the code snippets of the form:\n",
    "\n",
    "nbatch = 64\n",
    "nepochs = \n",
    "lr = \n",
    "\n",
    "model = \n",
    "\n",
    "cost_train, cost_valid, acc_train, acc_valid = train_eval(model, lr, nepochs, nbatch, training_data, validation_data)\n",
    "\n",
    "plt.figure(1)\n",
    "plt.plot(range(nepochs), cost_train, \"b-\")\n",
    "plt.plot(range(nepochs), cost_valid, \"r-\")\n",
    "\n",
    "plt.figure(2)\n",
    "plt.plot(range(nepochs), acc_train, \"b-\")\n",
    "plt.plot(range(nepochs), acc_valid, \"r-\")\n",
    "\n"
   ]
  },
  {
   "cell_type": "markdown",
   "id": "1a2e7893-e293-4ae6-a983-c335ff0c4b21",
   "metadata": {},
   "source": [
    "#### Comments: YOUR findings."
   ]
  },
  {
   "cell_type": "markdown",
   "id": "db61beca-5f13-404c-9c9c-568ccca8a00a",
   "metadata": {},
   "source": [
    "### Exercise 4: Add Regularisation\n",
    "\n",
    "Finally, add regularisation - dropout or L1/L2-regularisation. \n",
    "\n",
    "To this end, you need to implement new functionality to instantiate the model.\n",
    "\n",
    "Start with one of the overfitting cases of Exercise 3 and try to improve the validation performance by adding regularisation. You can use either dropout or L1/L2-regularisation.\n"
   ]
  },
  {
   "cell_type": "code",
   "execution_count": 57,
   "id": "b61b15df-a84b-483d-9365-d8f66390b8bb",
   "metadata": {},
   "outputs": [],
   "source": [
    "# define a method that provides an instance of an MLP incl regularisation which uses as a list of units per layer as input \n",
    "\n",
    "def mlp_dropout(units = [28*28, 200, 10], p_in = 0.2, p_hidden=0.5):\n",
    "    \"\"\"\n",
    "    Creates an instance of an MLP with layers as specified in the 'units'-list (list of integers) and dropout \n",
    "    regularisation. Dropout rate for all layers the same except for the first (p_in). For the output layer \n",
    "    no dropout applied. \n",
    "    \"\"\"\n",
    "\n",
    "    # YOUR CODE HERE #\n",
    "\n",
    "    "
   ]
  },
  {
   "cell_type": "code",
   "execution_count": 58,
   "id": "d4bfd0a4-999c-4690-9ef3-b5ee1ab26c30",
   "metadata": {
    "tags": []
   },
   "outputs": [
    {
     "name": "stdout",
     "output_type": "stream",
     "text": [
      "----------------------------------------------------------------\n",
      "        Layer (type)               Output Shape         Param #\n",
      "================================================================\n",
      "           Flatten-1                  [-1, 784]               0\n",
      "           Dropout-2                  [-1, 784]               0\n",
      "            Linear-3                  [-1, 200]         157,000\n",
      "           Dropout-4                  [-1, 200]               0\n",
      "              ReLU-5                  [-1, 200]               0\n",
      "            Linear-6                   [-1, 10]           2,010\n",
      "================================================================\n",
      "Total params: 159,010\n",
      "Trainable params: 159,010\n",
      "Non-trainable params: 0\n",
      "----------------------------------------------------------------\n",
      "Input size (MB): 0.00\n",
      "Forward/backward pass size (MB): 0.02\n",
      "Params size (MB): 0.61\n",
      "Estimated Total Size (MB): 0.63\n",
      "----------------------------------------------------------------\n"
     ]
    }
   ],
   "source": [
    "model = mlp_dropout([28*28,200,10])\n",
    "\n",
    "from torchsummary import summary\n",
    "summary(model, (1,28,28))"
   ]
  },
  {
   "cell_type": "markdown",
   "id": "c3fa393a-9f99-48f4-996d-cf8d2a3b8cd5",
   "metadata": {},
   "source": [
    "#### Playing with different complexities and regularisation\n",
    "\n",
    "Now play with different complexities and regularisation. \n",
    "Start with one of the overfitting cases identified in the previous exercise.\n",
    "By adding regularisation, you should be able to make it non-overfitting, i.e. generalising better.\n",
    "Note that for a given complexity, adding regularisation reduces the model capacity. This may need to be compensated by increasing the complexity of the model. \n",
    "\n",
    "Use again cost and accuracy for train and validation set to evaluate the results.\n",
    "\n",
    "Finally, estimate the bias error and the generalisation error. "
   ]
  },
  {
   "cell_type": "code",
   "execution_count": null,
   "id": "a1fa1c2b-50d7-4b23-91c8-c47eec5fc8fd",
   "metadata": {},
   "outputs": [],
   "source": [
    "\n",
    "# YOUR CODE HERE #\n",
    "\n"
   ]
  },
  {
   "cell_type": "code",
   "execution_count": null,
   "id": "e6b0bef3-7aeb-4329-aa64-e8d107c9bee2",
   "metadata": {},
   "outputs": [],
   "source": []
  }
 ],
 "metadata": {
  "kernelspec": {
   "display_name": "Python 3 (ipykernel)",
   "language": "python",
   "name": "python3"
  },
  "language_info": {
   "codemirror_mode": {
    "name": "ipython",
    "version": 3
   },
   "file_extension": ".py",
   "mimetype": "text/x-python",
   "name": "python",
   "nbconvert_exporter": "python",
   "pygments_lexer": "ipython3",
   "version": "3.11.5"
  }
 },
 "nbformat": 4,
 "nbformat_minor": 5
}
