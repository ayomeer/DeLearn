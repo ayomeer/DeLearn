{
 "cells": [
  {
   "cell_type": "code",
   "execution_count": 4,
   "id": "07ec37d7-f7cb-4646-a2dd-9dab66239a30",
   "metadata": {
    "tags": []
   },
   "outputs": [],
   "source": [
    "import torch\n",
    "from torch.utils.data import DataLoader\n",
    "from torchvision import datasets\n",
    "from torchvision.transforms import ToTensor\n",
    "from torchsummary import summary\n",
    "import numpy as np\n",
    "import matplotlib.pyplot as plt"
   ]
  },
  {
   "cell_type": "markdown",
   "id": "e2d8a986-1cb2-483b-9bd8-0f71d69fa9e8",
   "metadata": {
    "tags": []
   },
   "source": [
    "### Loading Data"
   ]
  },
  {
   "cell_type": "code",
   "execution_count": 5,
   "id": "4ba6b0c6-3f55-40dd-ba32-6f6aad8f1437",
   "metadata": {},
   "outputs": [],
   "source": [
    "training_data = datasets.mnist.FashionMNIST(root=\"data\", train=True, download=True, transform=ToTensor())\n",
    "test_data = datasets.mnist.FashionMNIST(root=\"data\", train=False, download=True, transform=ToTensor())"
   ]
  },
  {
   "cell_type": "code",
   "execution_count": 6,
   "id": "5c2da4ed-af9a-4fc7-b59f-135b51241d2f",
   "metadata": {
    "tags": []
   },
   "outputs": [],
   "source": [
    "training_data, validation_data = torch.utils.data.random_split(training_data, [50000, 10000])"
   ]
  },
  {
   "cell_type": "code",
   "execution_count": 7,
   "id": "22b30c81-d89f-4947-aa09-ab8c70dd262c",
   "metadata": {},
   "outputs": [
    {
     "name": "stdout",
     "output_type": "stream",
     "text": [
      "50000 10000 10000\n"
     ]
    }
   ],
   "source": [
    "print(len(training_data),len(validation_data),len(test_data))"
   ]
  },
  {
   "cell_type": "markdown",
   "id": "6832efcb-c191-42f2-93f5-60ff2e99e934",
   "metadata": {
    "tags": []
   },
   "source": [
    "### Exercise 2: Fixed MLP with Increasing Training Dataset\n",
    "\n",
    "Create a MLP with one hidden layer with 200 units for Fashion MNIST classification. Use ReLU activation.\n",
    "\n",
    "Use a random fraction of the training set (split above) to perform the training. Always use the same validation set.\n",
    "\n",
    "Use SGD and cross-entropy loss and suitable learning rate.\n",
    "\n",
    "Start with a single small batch for training (batch size 8) and make sure that you can overfit, i.e. bring the training accuracy to 100%.\n",
    "\n",
    "Then, gradually increase the training set. Let it grow until you obtain values for the training and the validation loss which no longer indicate overfitting. Use a fixed batch size (batchsize 32)."
   ]
  },
  {
   "cell_type": "markdown",
   "id": "7a65fabc-6c12-4e88-8a47-0f5ce337103d",
   "metadata": {},
   "source": [
    "#### MLP Class"
   ]
  },
  {
   "cell_type": "code",
   "execution_count": 48,
   "id": "b02cf040-3853-4e48-afa7-4666f8c46d75",
   "metadata": {},
   "outputs": [],
   "source": [
    "# define a method that provides an instance of an MLP which uses as a list of units per layer as input\n",
    "\n",
    "def mlp(units = [28*28, 200, 10]):\n",
    "    \"\"\"\n",
    "    Creates an instance of an MLP with layers as specified in the 'units'-list (list of integers).\n",
    "    \"\"\"\n",
    "    # YOUR CODE HERE #"
   ]
  },
  {
   "cell_type": "code",
   "execution_count": 50,
   "id": "5c108c38-1e25-4353-b95a-1ecb00c43fb1",
   "metadata": {},
   "outputs": [
    {
     "name": "stdout",
     "output_type": "stream",
     "text": [
      "----------------------------------------------------------------\n",
      "        Layer (type)               Output Shape         Param #\n",
      "================================================================\n",
      "           Flatten-1                  [-1, 784]               0\n",
      "            Linear-2                  [-1, 200]         157,000\n",
      "              ReLU-3                  [-1, 200]               0\n",
      "            Linear-4                   [-1, 10]           2,010\n",
      "================================================================\n",
      "Total params: 159,010\n",
      "Trainable params: 159,010\n",
      "Non-trainable params: 0\n",
      "----------------------------------------------------------------\n",
      "Input size (MB): 0.00\n",
      "Forward/backward pass size (MB): 0.01\n",
      "Params size (MB): 0.61\n",
      "Estimated Total Size (MB): 0.62\n",
      "----------------------------------------------------------------\n"
     ]
    }
   ],
   "source": [
    "# create an instance and its summary\n",
    "\n",
    "model = mlp()\n",
    "from torchsummary import summary\n",
    "summary(model, (1,28,28))"
   ]
  },
  {
   "cell_type": "markdown",
   "id": "29bfd65c-d84d-401e-a209-8d4de656fee3",
   "metadata": {},
   "source": [
    "#### Training Loop "
   ]
  },
  {
   "cell_type": "code",
   "execution_count": 52,
   "id": "c6979eb0-1b61-44df-8f83-3ad42bc6e226",
   "metadata": {},
   "outputs": [],
   "source": [
    "def train_eval(model, lr, nepochs, nbatch, training_data, validation_data):\n",
    "    \"\"\"\n",
    "    Performs the training of a model with given learning rate (lr), \n",
    "    number of epochs (nepochs), batchsize (nbatch) and training and validation data.\n",
    "    Suitable data loaders are instantiated for the training and validation datasets.\n",
    "    Keep book about cost and accuracy (per epoch) for both training and validation set.\n",
    "    \"\"\"\n",
    "    cost_hist = []\n",
    "    cost_hist_test = []\n",
    "    acc_hist = []\n",
    "    acc_hist_test = []\n",
    "\n",
    "\n",
    "    # YOUR CODE HERE #\n",
    "    \n",
    "    \n",
    "    \n",
    "    \n",
    "    \n",
    "    \n",
    "    \n",
    "    return cost_hist, cost_hist_test, acc_hist, acc_hist_test"
   ]
  },
  {
   "cell_type": "markdown",
   "id": "c3f7a9da-8c34-42c4-8907-3cc7990227e4",
   "metadata": {},
   "source": [
    "#### First Training\n",
    "\n",
    "Run a first training with only one small training batch (e.g. with a single batch of 64 samples). \n",
    "The small training set can be created by using the functionality `torch.utils.data.random_split` already used above. As validation set use the `validation_data` created above.  \n",
    "\n",
    "This training run can be used to test whether the model and training loop are properly implemented. Explain why and in what sense it can be used as test.\n",
    "\n",
    "This is something you can always do when training a model."
   ]
  },
  {
   "cell_type": "code",
   "execution_count": 64,
   "id": "37778e0b-7f07-4af8-8f9e-45e6ba864248",
   "metadata": {},
   "outputs": [
    {
     "name": "stdout",
     "output_type": "stream",
     "text": [
      "64 49936\n",
      "Epoch 0: 2.300976, 0.109375, 2.260533, 0.113600\n",
      "Epoch 1: 2.215962, 0.171875, 2.219850, 0.104000\n",
      "Epoch 2: 2.143684, 0.156250, 2.180437, 0.107600\n",
      "Epoch 3: 2.078277, 0.171875, 2.140986, 0.135500\n",
      "Epoch 4: 2.014394, 0.265625, 2.099119, 0.187100\n",
      "Epoch 5: 1.951854, 0.343750, 2.056029, 0.271000\n",
      "Epoch 6: 1.889566, 0.406250, 2.012196, 0.351700\n",
      "Epoch 7: 1.826177, 0.515625, 1.966428, 0.411700\n",
      "Epoch 8: 1.761745, 0.609375, 1.918122, 0.446500\n",
      "Epoch 9: 1.697721, 0.671875, 1.869194, 0.468100\n",
      "Epoch 10: 1.634021, 0.671875, 1.821591, 0.480200\n",
      "Epoch 11: 1.571365, 0.671875, 1.773589, 0.488500\n",
      "Epoch 12: 1.510763, 0.671875, 1.729433, 0.491000\n",
      "Epoch 13: 1.452461, 0.671875, 1.683999, 0.493500\n",
      "Epoch 14: 1.396593, 0.671875, 1.642426, 0.494400\n",
      "Epoch 15: 1.343883, 0.687500, 1.601014, 0.497200\n",
      "Epoch 16: 1.294002, 0.687500, 1.562819, 0.499700\n",
      "Epoch 17: 1.247346, 0.687500, 1.525060, 0.501700\n",
      "Epoch 18: 1.203505, 0.687500, 1.493468, 0.504100\n",
      "Epoch 19: 1.162423, 0.687500, 1.459511, 0.506400\n",
      "Epoch 20: 1.123705, 0.687500, 1.429738, 0.508200\n",
      "Epoch 21: 1.087451, 0.703125, 1.399992, 0.510200\n",
      "Epoch 22: 1.053191, 0.703125, 1.373083, 0.512300\n",
      "Epoch 23: 1.021016, 0.703125, 1.347929, 0.516100\n",
      "Epoch 24: 0.990709, 0.718750, 1.324433, 0.518700\n",
      "Epoch 25: 0.962165, 0.750000, 1.303173, 0.523500\n",
      "Epoch 26: 0.935169, 0.765625, 1.281790, 0.528100\n",
      "Epoch 27: 0.909616, 0.765625, 1.263810, 0.533900\n",
      "Epoch 28: 0.885261, 0.765625, 1.246184, 0.539200\n",
      "Epoch 29: 0.862303, 0.765625, 1.229557, 0.545800\n",
      "Epoch 30: 0.840503, 0.796875, 1.213460, 0.552700\n",
      "Epoch 31: 0.819780, 0.796875, 1.197487, 0.560100\n",
      "Epoch 32: 0.799998, 0.796875, 1.185206, 0.564500\n",
      "Epoch 33: 0.781143, 0.796875, 1.171978, 0.570400\n",
      "Epoch 34: 0.763150, 0.812500, 1.159478, 0.576600\n",
      "Epoch 35: 0.745811, 0.812500, 1.148521, 0.580500\n",
      "Epoch 36: 0.729236, 0.812500, 1.137182, 0.585600\n",
      "Epoch 37: 0.713286, 0.812500, 1.128097, 0.590500\n",
      "Epoch 38: 0.697944, 0.828125, 1.116191, 0.594400\n",
      "Epoch 39: 0.683161, 0.875000, 1.108045, 0.598000\n",
      "Epoch 40: 0.668940, 0.875000, 1.097352, 0.602300\n",
      "Epoch 41: 0.655161, 0.875000, 1.090521, 0.605200\n",
      "Epoch 42: 0.641754, 0.875000, 1.081762, 0.608900\n",
      "Epoch 43: 0.628843, 0.875000, 1.076012, 0.610600\n",
      "Epoch 44: 0.616345, 0.875000, 1.067997, 0.615300\n",
      "Epoch 45: 0.604157, 0.906250, 1.063738, 0.615500\n",
      "Epoch 46: 0.592375, 0.906250, 1.051548, 0.621200\n",
      "Epoch 47: 0.580891, 0.906250, 1.051359, 0.620000\n",
      "Epoch 48: 0.569735, 0.906250, 1.036334, 0.627800\n",
      "Epoch 49: 0.558890, 0.906250, 1.041185, 0.624000\n",
      "Epoch 50: 0.548401, 0.906250, 1.022447, 0.632600\n",
      "Epoch 51: 0.538213, 0.906250, 1.035522, 0.626900\n",
      "Epoch 52: 0.528375, 0.921875, 1.009374, 0.641100\n",
      "Epoch 53: 0.518846, 0.921875, 1.032242, 0.628200\n",
      "Epoch 54: 0.509892, 0.921875, 0.996197, 0.647700\n",
      "Epoch 55: 0.501154, 0.937500, 1.031361, 0.629000\n",
      "Epoch 56: 0.493311, 0.921875, 0.981158, 0.655600\n",
      "Epoch 57: 0.485522, 0.937500, 1.035979, 0.628100\n",
      "Epoch 58: 0.479097, 0.890625, 0.969594, 0.661500\n",
      "Epoch 59: 0.472633, 0.953125, 1.047678, 0.628000\n",
      "Epoch 60: 0.468608, 0.906250, 0.957849, 0.666400\n",
      "Epoch 61: 0.463245, 0.968750, 1.063735, 0.626700\n",
      "Epoch 62: 0.461745, 0.890625, 0.951091, 0.669300\n",
      "Epoch 63: 0.456836, 0.968750, 1.087432, 0.625600\n",
      "Epoch 64: 0.457642, 0.890625, 0.945081, 0.666700\n",
      "Epoch 65: 0.451276, 0.968750, 1.099137, 0.624700\n",
      "Epoch 66: 0.452613, 0.890625, 0.940024, 0.666900\n",
      "Epoch 67: 0.442857, 0.968750, 1.103918, 0.625400\n",
      "Epoch 68: 0.442850, 0.890625, 0.936172, 0.668600\n",
      "Epoch 69: 0.429418, 0.968750, 1.098548, 0.629900\n",
      "Epoch 70: 0.428496, 0.890625, 0.931440, 0.671300\n",
      "Epoch 71: 0.414695, 0.968750, 1.087740, 0.632700\n",
      "Epoch 72: 0.413395, 0.890625, 0.925398, 0.672000\n",
      "Epoch 73: 0.398757, 0.968750, 1.079050, 0.636500\n",
      "Epoch 74: 0.397326, 0.906250, 0.920012, 0.671800\n",
      "Epoch 75: 0.383659, 0.968750, 1.066948, 0.638800\n",
      "Epoch 76: 0.381895, 0.906250, 0.915159, 0.674200\n",
      "Epoch 77: 0.368867, 0.968750, 1.057281, 0.641700\n",
      "Epoch 78: 0.367935, 0.906250, 0.913883, 0.674600\n",
      "Epoch 79: 0.356113, 0.968750, 1.050013, 0.643200\n",
      "Epoch 80: 0.355160, 0.906250, 0.908527, 0.675200\n",
      "Epoch 81: 0.343495, 0.968750, 1.046355, 0.644700\n",
      "Epoch 82: 0.342900, 0.921875, 0.905226, 0.677000\n",
      "Epoch 83: 0.332263, 0.984375, 1.040840, 0.646400\n",
      "Epoch 84: 0.332398, 0.937500, 0.904508, 0.677900\n",
      "Epoch 85: 0.321597, 0.984375, 1.038998, 0.648200\n",
      "Epoch 86: 0.321783, 0.937500, 0.900941, 0.678500\n",
      "Epoch 87: 0.311678, 0.984375, 1.033874, 0.649800\n",
      "Epoch 88: 0.312206, 0.937500, 0.897966, 0.678600\n",
      "Epoch 89: 0.302064, 0.984375, 1.032453, 0.650300\n",
      "Epoch 90: 0.303453, 0.937500, 0.895141, 0.679500\n",
      "Epoch 91: 0.293362, 0.984375, 1.032181, 0.651800\n",
      "Epoch 92: 0.294199, 0.953125, 0.893839, 0.680400\n",
      "Epoch 93: 0.283752, 0.984375, 1.028654, 0.653000\n",
      "Epoch 94: 0.285288, 0.953125, 0.895710, 0.681100\n",
      "Epoch 95: 0.275350, 0.984375, 1.027010, 0.654500\n",
      "Epoch 96: 0.276511, 0.953125, 0.891569, 0.682400\n",
      "Epoch 97: 0.266511, 1.000000, 1.020701, 0.655800\n",
      "Epoch 98: 0.267838, 0.953125, 0.891208, 0.682200\n",
      "Epoch 99: 0.258377, 1.000000, 1.018298, 0.657400\n"
     ]
    },
    {
     "data": {
      "text/plain": [
       "[<matplotlib.lines.Line2D at 0x7faea65b04c0>]"
      ]
     },
     "execution_count": 64,
     "metadata": {},
     "output_type": "execute_result"
    },
    {
     "data": {
      "image/png": "[encoded data removed]",
      "text/plain": [
       "<Figure size 640x480 with 1 Axes>"
      ]
     },
     "metadata": {},
     "output_type": "display_data"
    },
    {
     "data": {
      "image/png": "[encoded data removed]",
      "text/plain": [
       "<Figure size 640x480 with 1 Axes>"
      ]
     },
     "metadata": {},
     "output_type": "display_data"
    }
   ],
   "source": [
    "nbatch = 32\n",
    "nbatches = 1\n",
    "nepochs = 100\n",
    "lr = 0.1\n",
    "\n",
    "trainsize = nbatches*nbatch\n",
    "trainset, rest = torch.utils.data.random_split(training_data, [trainsize, 50000-trainsize])\n",
    "print(len(trainset), len(rest))\n",
    "\n",
    "model = mlp([28*28, 200, 10])\n",
    "cost_train, cost_valid, acc_train, acc_valid = train_eval(model, lr, nepochs, nbatch, trainset, validation_data)\n",
    "\n",
    "plt.figure(1)\n",
    "plt.plot(range(nepochs), cost_train, \"b-\")\n",
    "plt.plot(range(nepochs), cost_valid, \"r-\")\n",
    "\n",
    "plt.figure(2)\n",
    "plt.plot(range(nepochs), acc_train, \"b-\")\n",
    "plt.plot(range(nepochs), acc_valid, \"r-\")"
   ]
  },
  {
   "cell_type": "markdown",
   "id": "b66c8ceb-8083-4e62-b123-b026aef32e22",
   "metadata": {},
   "source": [
    "#### Evaluate Train and Validation Performance \n",
    "\n",
    "Now run several trainings with the same small model (one hidden layer) and explore for different number of training samples (different number of batches with 32 samples) used, how the train and validation performance evolve (cost and accuracy). Make sure that you train sufficiently long to obtain representative values for cost and accuracy with the given settings. Always use the same validation set (with 10'000 samples).\n",
    "\n",
    "Create plots with training and validation performance vs number of training batches (one for cost and one for accuracy). Use the performance characteristics obtained at the end.\n",
    "\n",
    "Discuss the whether there is a sufficient number of training samples for the given problem at hand. Specify a minimum number if applicable. Also consider whether you are in the underfitting regime.\n",
    "\n",
    "Hint: Specify a list with the number of training batches you would like to perform trainings. Try to be economic with the resources used - try to keep the number of trainings limited."
   ]
  },
  {
   "cell_type": "code",
   "execution_count": null,
   "id": "50e0bb95-7392-46a5-9481-640e9177d5b1",
   "metadata": {},
   "outputs": [],
   "source": []
  },
  {
   "cell_type": "markdown",
   "id": "c5e0c6ba-8f5e-4470-b110-1e52d86baa59",
   "metadata": {},
   "source": [
    "#### Comments: YOUR comments"
   ]
  },
  {
   "cell_type": "markdown",
   "id": "2f4d08b0-8ad2-4fc1-98e8-39dd29f204a1",
   "metadata": {},
   "source": [
    "### Exercise 3: Evaluate Different Model Complexities\n",
    "\n",
    "Use the same functionality implemented above (create MLP model, train and evaluate model) to evaluate different model complexities: Number of layers and number of units per layer.\n",
    "\n",
    "Start with the small model used in Exercise 2. Then gradually increase the model complexity. Do this along two dimensions:\n",
    "* a single hidden layer, but increasing the number of units.\n",
    "* a fixed number of units per (hidden) layer, but increase the number of layers.\n",
    "Make sure that you reach the overfitting regime (in either case).\n",
    "\n",
    "Always use the full training set with 50'000 samples.\n",
    "\n",
    "Again make sure that you train sufficiently long so that the obtained train and validation performance measures (cost, accuracy) are representative.\n",
    "\n",
    "Create plots with training and validation performance (cost, accuracy) vs model complexity - one plot with number of units for the single hidden layer case, and one for varying number of layers. \n",
    "\n",
    "Again use the performance characteristics obtained at the end. \n",
    "\n",
    "Finally, discuss your findings."
   ]
  },
  {
   "cell_type": "code",
   "execution_count": null,
   "id": "43dcd0fc-3fd6-4b07-a594-e7f6a6336e7f",
   "metadata": {},
   "outputs": [],
   "source": [
    "# YOUR CODE HERE #\n",
    "# several iterations with the code snippets of the form:\n",
    "\n",
    "nbatch = 64\n",
    "nepochs = \n",
    "lr = \n",
    "\n",
    "model = \n",
    "\n",
    "cost_train, cost_valid, acc_train, acc_valid = train_eval(model, lr, nepochs, nbatch, training_data, validation_data)\n",
    "\n",
    "plt.figure(1)\n",
    "plt.plot(range(nepochs), cost_train, \"b-\")\n",
    "plt.plot(range(nepochs), cost_valid, \"r-\")\n",
    "\n",
    "plt.figure(2)\n",
    "plt.plot(range(nepochs), acc_train, \"b-\")\n",
    "plt.plot(range(nepochs), acc_valid, \"r-\")\n",
    "\n"
   ]
  },
  {
   "cell_type": "markdown",
   "id": "1a2e7893-e293-4ae6-a983-c335ff0c4b21",
   "metadata": {},
   "source": [
    "#### Comments: YOUR findings."
   ]
  },
  {
   "cell_type": "markdown",
   "id": "db61beca-5f13-404c-9c9c-568ccca8a00a",
   "metadata": {},
   "source": [
    "### Exercise 4: Add Regularisation\n",
    "\n",
    "Finally, add regularisation - dropout or L1/L2-regularisation. \n",
    "\n",
    "To this end, you need to implement new functionality to instantiate the model.\n",
    "\n",
    "Start with one of the overfitting cases of Exercise 3 and try to improve the validation performance by adding regularisation. You can use either dropout or L1/L2-regularisation.\n"
   ]
  },
  {
   "cell_type": "code",
   "execution_count": 57,
   "id": "b61b15df-a84b-483d-9365-d8f66390b8bb",
   "metadata": {},
   "outputs": [],
   "source": [
    "# define a method that provides an instance of an MLP incl regularisation which uses as a list of units per layer as input \n",
    "\n",
    "def mlp_dropout(units = [28*28, 200, 10], p_in = 0.2, p_hidden=0.5):\n",
    "    \"\"\"\n",
    "    Creates an instance of an MLP with layers as specified in the 'units'-list (list of integers) and dropout \n",
    "    regularisation. Dropout rate for all layers the same except for the first (p_in). For the output layer \n",
    "    no dropout applied. \n",
    "    \"\"\"\n",
    "\n",
    "    # YOUR CODE HERE #\n",
    "\n",
    "    "
   ]
  },
  {
   "cell_type": "code",
   "execution_count": 58,
   "id": "d4bfd0a4-999c-4690-9ef3-b5ee1ab26c30",
   "metadata": {
    "tags": []
   },
   "outputs": [
    {
     "name": "stdout",
     "output_type": "stream",
     "text": [
      "----------------------------------------------------------------\n",
      "        Layer (type)               Output Shape         Param #\n",
      "================================================================\n",
      "           Flatten-1                  [-1, 784]               0\n",
      "           Dropout-2                  [-1, 784]               0\n",
      "            Linear-3                  [-1, 200]         157,000\n",
      "           Dropout-4                  [-1, 200]               0\n",
      "              ReLU-5                  [-1, 200]               0\n",
      "            Linear-6                   [-1, 10]           2,010\n",
      "================================================================\n",
      "Total params: 159,010\n",
      "Trainable params: 159,010\n",
      "Non-trainable params: 0\n",
      "----------------------------------------------------------------\n",
      "Input size (MB): 0.00\n",
      "Forward/backward pass size (MB): 0.02\n",
      "Params size (MB): 0.61\n",
      "Estimated Total Size (MB): 0.63\n",
      "----------------------------------------------------------------\n"
     ]
    }
   ],
   "source": [
    "model = mlp_dropout([28*28,200,10])\n",
    "\n",
    "from torchsummary import summary\n",
    "summary(model, (1,28,28))"
   ]
  },
  {
   "cell_type": "markdown",
   "id": "c3fa393a-9f99-48f4-996d-cf8d2a3b8cd5",
   "metadata": {},
   "source": [
    "#### Playing with different complexities and regularisation\n",
    "\n",
    "Now play with different complexities and regularisation. \n",
    "Start with one of the overfitting cases identified in the previous exercise.\n",
    "By adding regularisation, you should be able to make it non-overfitting, i.e. generalising better.\n",
    "Note that for a given complexity, adding regularisation reduces the model capacity. This may need to be compensated by increasing the complexity of the model. \n",
    "\n",
    "Use again cost and accuracy for train and validation set to evaluate the results.\n",
    "\n",
    "Finally, estimate the bias error and the generalisation error. "
   ]
  },
  {
   "cell_type": "code",
   "execution_count": null,
   "id": "a1fa1c2b-50d7-4b23-91c8-c47eec5fc8fd",
   "metadata": {},
   "outputs": [],
   "source": [
    "\n",
    "# YOUR CODE HERE #\n",
    "\n"
   ]
  },
  {
   "cell_type": "code",
   "execution_count": null,
   "id": "e6b0bef3-7aeb-4329-aa64-e8d107c9bee2",
   "metadata": {},
   "outputs": [],
   "source": []
  }
 ],
 "metadata": {
  "kernelspec": {
   "display_name": "Python 3 (ipykernel)",
   "language": "python",
   "name": "python3"
  },
  "language_info": {
   "codemirror_mode": {
    "name": "ipython",
    "version": 3
   },
   "file_extension": ".py",
   "mimetype": "text/x-python",
   "name": "python",
   "nbconvert_exporter": "python",
   "pygments_lexer": "ipython3",
   "version": "3.11.5"
  }
 },
 "nbformat": 4,
 "nbformat_minor": 5
}
