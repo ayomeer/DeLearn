{
 "cells": [
  {
   "cell_type": "markdown",
   "metadata": {},
   "source": [
    "# Analysis of a Deep Architecture\n",
    "\n",
    "### a) Picked Architecture: YOLO v1-3\n",
    "\n",
    "### b) References\n",
    "\n",
    "Hussain, M., 2023. YOLO-v1 to YOLO-v8, the rise of YOLO and its complementary nature toward digital manufacturing and industrial defect detection. Machines, 11(7), p.677.\n",
    "\n",
    "Explicit Network Graphic from:\n",
    "\n",
    "Shenoda, Michael. (2023). Real-time Object Detection: YOLOv1 Re-Implementation in PyTorch. \n",
    "\n",
    "### d) Explanation\n",
    "\n",
    "- You Only Look Once: Single stage object detector (draws bounding boxes around them)\n",
    "    - Both candidate selection and prediction done simultaneously, formulated as regression problem\n",
    "    - Single stage emphasizes speed over accuracy, targeting real-time applications\n",
    "\n",
    "- Training Setup\n",
    "    - Learning targets:  ({x, y, w, h}, {s}) = ({Bounding Box}, {class prediction conﬁdence score})\n",
    "    - Split image into SxS grid cells (default: S=7 with 448x448 image -> 64px cells)\n",
    "    - Compute center point for ground-truth bounding boxes\n",
    "    - Assign grid cell which the center point falls into to the corresponding ground-truth object\n",
    "        - Model predicts a bounding box and classification confidence score for each possible class based on only the pixels from within that grid cell\n",
    "\n",
    "- Base Architecture (v1)\n",
    "    - INPUT -> [CONV -> RELU -> POOL]*2 -> [INCEPTION MODULE]*4 -> FC -> RELU -> FC\n",
    "        - INCEPTION MODULE comprised of different combintions and numbers of 1x1 and 3x3 convolutions in parallel, similar to GoogleNet\n",
    "\n",
    "![](Yolo_References/YOLO-Full-Model-Architecture.png)  \n",
    "  \n",
    "- Yolo-v2\n",
    "    - Introduces batch-normalization\n",
    "    - Replaces fully connected bounding box prediction layers with concept of _anchor boxes_, a list of predefined, common box shapes\n",
    "        - Offsets computed within convolutional layers (weird)\n",
    "    - Added more conv layers\n",
    "\n",
    "- Yolo-v3\n",
    "    - Introduces \"gradient highway\" idea from ResNet to combat vanishing gradient problem, that comes with deep networks\n",
    "    \n"
   ]
  }
 ],
 "metadata": {
  "language_info": {
   "name": "python"
  }
 },
 "nbformat": 4,
 "nbformat_minor": 2
}
