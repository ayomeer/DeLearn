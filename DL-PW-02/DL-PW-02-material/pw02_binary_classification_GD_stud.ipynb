{
 "cells": [
  {
   "cell_type": "markdown",
   "id": "98670d0a-08fb-4645-887b-4eb5d02cff00",
   "metadata": {
    "tags": []
   },
   "source": [
    "## Binary Classification\n",
    "\n",
    "Here, we use a tabular dataset from kaggle (https://www.kaggle.com/sammy123/lower-back-pain-symptoms-dataset) with features on patients physical spine details possibly suited for classifying whether the person is 'abnormal' or 'normal' - possibly suffers back pain or not.   \n",
    "\n",
    "We here just want to see how the training works with logistic regression (binary case). We set aside a proper handling of the learning experiment by splitting the data into a train and test partition (in general we would even have a validation partition). We focus here on making the system learn something. \n",
    "\n",
    "1. **Download the dataset** from kaggle (see the link in the notebook). Load it into a pandas dataframe (see the code in the notebook). Normalise the data.\n",
    "2. Complete the code for the implementation of the methods `predict()`, `cost()`, `gradient_cost()`, `accuracy()`. As a test, just invoke the method by suitable dummy values.\n",
    "3. Implement (full) **batch GD** for minimizing the CE cost **(without autograd)**. Plot cost vs the number of epochs.\n",
    "4. Implement (full) **batch GD** for minimizing the CE cost, this time with **autograd**. show that you obtain consistent results.\n",
    "5. **Tune the learning rate**. What is a reasonable learning rate?\n",
    "\n",
    "### 1. Load Data"
   ]
  },
  {
   "cell_type": "code",
   "execution_count": 4,
   "id": "7ef52aa8-c74f-450e-ac70-01905d511493",
   "metadata": {},
   "outputs": [],
   "source": [
    "import torch\n",
    "import numpy as np\n",
    "import matplotlib.pyplot as plt"
   ]
  },
  {
   "cell_type": "code",
   "execution_count": 5,
   "id": "275b5e04-7dbc-461d-9e63-c4e1c3852c57",
   "metadata": {},
   "outputs": [
    {
     "data": {
      "text/html": [
       "<div>\n",
       "<style scoped>\n",
       "    .dataframe tbody tr th:only-of-type {\n",
       "        vertical-align: middle;\n",
       "    }\n",
       "\n",
       "    .dataframe tbody tr th {\n",
       "        vertical-align: top;\n",
       "    }\n",
       "\n",
       "    .dataframe thead th {\n",
       "        text-align: right;\n",
       "    }\n",
       "</style>\n",
       "<table border=\"1\" class=\"dataframe\">\n",
       "  <thead>\n",
       "    <tr style=\"text-align: right;\">\n",
       "      <th></th>\n",
       "      <th>Col1</th>\n",
       "      <th>Col2</th>\n",
       "      <th>Col3</th>\n",
       "      <th>Col4</th>\n",
       "      <th>Col5</th>\n",
       "      <th>Col6</th>\n",
       "      <th>Col7</th>\n",
       "      <th>Col8</th>\n",
       "      <th>Col9</th>\n",
       "      <th>Col10</th>\n",
       "      <th>Col11</th>\n",
       "      <th>Col12</th>\n",
       "      <th>Class_att</th>\n",
       "    </tr>\n",
       "  </thead>\n",
       "  <tbody>\n",
       "    <tr>\n",
       "      <th>0</th>\n",
       "      <td>63.027817</td>\n",
       "      <td>22.552586</td>\n",
       "      <td>39.609117</td>\n",
       "      <td>40.475232</td>\n",
       "      <td>98.672917</td>\n",
       "      <td>-0.254400</td>\n",
       "      <td>0.744503</td>\n",
       "      <td>12.5661</td>\n",
       "      <td>14.5386</td>\n",
       "      <td>15.30468</td>\n",
       "      <td>-28.658501</td>\n",
       "      <td>43.5123</td>\n",
       "      <td>Abnormal</td>\n",
       "    </tr>\n",
       "    <tr>\n",
       "      <th>1</th>\n",
       "      <td>39.056951</td>\n",
       "      <td>10.060991</td>\n",
       "      <td>25.015378</td>\n",
       "      <td>28.995960</td>\n",
       "      <td>114.405425</td>\n",
       "      <td>4.564259</td>\n",
       "      <td>0.415186</td>\n",
       "      <td>12.8874</td>\n",
       "      <td>17.5323</td>\n",
       "      <td>16.78486</td>\n",
       "      <td>-25.530607</td>\n",
       "      <td>16.1102</td>\n",
       "      <td>Abnormal</td>\n",
       "    </tr>\n",
       "    <tr>\n",
       "      <th>2</th>\n",
       "      <td>68.832021</td>\n",
       "      <td>22.218482</td>\n",
       "      <td>50.092194</td>\n",
       "      <td>46.613539</td>\n",
       "      <td>105.985135</td>\n",
       "      <td>-3.530317</td>\n",
       "      <td>0.474889</td>\n",
       "      <td>26.8343</td>\n",
       "      <td>17.4861</td>\n",
       "      <td>16.65897</td>\n",
       "      <td>-29.031888</td>\n",
       "      <td>19.2221</td>\n",
       "      <td>Abnormal</td>\n",
       "    </tr>\n",
       "    <tr>\n",
       "      <th>3</th>\n",
       "      <td>69.297008</td>\n",
       "      <td>24.652878</td>\n",
       "      <td>44.311238</td>\n",
       "      <td>44.644130</td>\n",
       "      <td>101.868495</td>\n",
       "      <td>11.211523</td>\n",
       "      <td>0.369345</td>\n",
       "      <td>23.5603</td>\n",
       "      <td>12.7074</td>\n",
       "      <td>11.42447</td>\n",
       "      <td>-30.470246</td>\n",
       "      <td>18.8329</td>\n",
       "      <td>Abnormal</td>\n",
       "    </tr>\n",
       "    <tr>\n",
       "      <th>4</th>\n",
       "      <td>49.712859</td>\n",
       "      <td>9.652075</td>\n",
       "      <td>28.317406</td>\n",
       "      <td>40.060784</td>\n",
       "      <td>108.168725</td>\n",
       "      <td>7.918501</td>\n",
       "      <td>0.543360</td>\n",
       "      <td>35.4940</td>\n",
       "      <td>15.9546</td>\n",
       "      <td>8.87237</td>\n",
       "      <td>-16.378376</td>\n",
       "      <td>24.9171</td>\n",
       "      <td>Abnormal</td>\n",
       "    </tr>\n",
       "  </tbody>\n",
       "</table>\n",
       "</div>"
      ],
      "text/plain": [
       "        Col1       Col2       Col3       Col4        Col5       Col6  \\\n",
       "0  63.027817  22.552586  39.609117  40.475232   98.672917  -0.254400   \n",
       "1  39.056951  10.060991  25.015378  28.995960  114.405425   4.564259   \n",
       "2  68.832021  22.218482  50.092194  46.613539  105.985135  -3.530317   \n",
       "3  69.297008  24.652878  44.311238  44.644130  101.868495  11.211523   \n",
       "4  49.712859   9.652075  28.317406  40.060784  108.168725   7.918501   \n",
       "\n",
       "       Col7     Col8     Col9     Col10      Col11    Col12 Class_att  \n",
       "0  0.744503  12.5661  14.5386  15.30468 -28.658501  43.5123  Abnormal  \n",
       "1  0.415186  12.8874  17.5323  16.78486 -25.530607  16.1102  Abnormal  \n",
       "2  0.474889  26.8343  17.4861  16.65897 -29.031888  19.2221  Abnormal  \n",
       "3  0.369345  23.5603  12.7074  11.42447 -30.470246  18.8329  Abnormal  \n",
       "4  0.543360  35.4940  15.9546   8.87237 -16.378376  24.9171  Abnormal  "
      ]
     },
     "execution_count": 5,
     "metadata": {},
     "output_type": "execute_result"
    }
   ],
   "source": [
    "import pandas as pd\n",
    "df = pd.read_csv(\"Dataset_spine.csv\") # possibly modify!\n",
    "df = df.drop(columns=['Unnamed: 13'])\n",
    "N  = df.shape[0]\n",
    "df.head()"
   ]
  },
  {
   "cell_type": "markdown",
   "id": "edfb0957-0a55-4437-9076-dd1cad0354c0",
   "metadata": {},
   "source": [
    "#### Normalization and Turning into Torch Tensors"
   ]
  },
  {
   "cell_type": "code",
   "execution_count": 6,
   "id": "418ab33a-b905-4b9c-aff9-aa0e48bf9a6d",
   "metadata": {},
   "outputs": [
    {
     "name": "stdout",
     "output_type": "stream",
     "text": [
      "X shape:  torch.Size([310, 12]) \n",
      "Y shape: torch.Size([310, 1])\n"
     ]
    }
   ],
   "source": [
    "x0 = torch.from_numpy(df.values[:,0:-1].astype(np.float64)) # input variables\n",
    "\n",
    "# standardize input scalars\n",
    "X = (x0-torch.mean(x0, dim=0))/torch.std(x0,dim=0)\n",
    "\n",
    "# replace strings in response variables with 0s and 1s\n",
    "Y = torch.tensor(('Abnormal'==df.values[:,-1])).double().reshape(-1,1) \n",
    "#NOTE: '-1' in reshape means, as many as it takes to satisfy other dimension\n",
    "\n",
    "print(\"X shape: \", X.shape, \"\\nY shape:\", Y.shape)"
   ]
  },
  {
   "cell_type": "markdown",
   "id": "cf95eefb-3767-4884-a799-7617e9428a5c",
   "metadata": {
    "tags": []
   },
   "source": [
    "### 2. Implement the Model for (Binary) Logistic Regression\n",
    "\n",
    "Data:  $\\,\\qquad X = \\left(\\begin{array}{cccc} 1 & X_{11} & \\dots & X_{1n} \\\\ \\vdots & \\vdots & \\vdots & \\vdots \\\\ 1 & X_{N1} & \\dots & X_{Nn}\\end{array}\\right)\\qquad$ and $\\qquad Y = \\left(\\begin{array}{c} Y_{1} \\\\ \\vdots \\\\ Y_{N} \\end{array}\\right)$\n",
    "\n",
    "Model: $\\qquad\\hat{Y}(X;W) = \\sigma\\left(X W^\\intercal\\right) \\qquad$ where $\\qquad W^\\intercal = \\left(\\begin{array}{c} W_0 \\\\ W_1 \\\\ \\vdots \\\\ W_n \\end{array}\\right)$\n",
    "\n",
    "The model outputs the probability of observing in a sample $x$ a '1' (Abnormal).\n",
    "\n",
    "Cross-Entropy Cost (maxL):  $\\,\\quad C(W) = -\\frac{1}{N}\\sum_j \\left(Y_j\\log(\\hat{Y}_j(X;W)) + (1-Y_j)\\log(1-\\hat{Y}_j(X;W))\\right)$\n",
    "\n",
    "__Remark:__ Note that the logarithm diverges at arguments approaching 0. Make sure that you don't run into numerical issues."
   ]
  },
  {
   "cell_type": "code",
   "execution_count": 7,
   "id": "79210499-8d67-4f08-9da3-91a9b2f93f89",
   "metadata": {
    "tags": []
   },
   "outputs": [],
   "source": [
    "# compose torch tensors X of shape (N,13) by inserting a column with 1's as first column  \n",
    "X = torch.cat((torch.ones(N,1),X), dim=1)"
   ]
  },
  {
   "cell_type": "code",
   "execution_count": 8,
   "id": "5053b3b8-4e77-45c7-8a57-e9abe98c0910",
   "metadata": {},
   "outputs": [
    {
     "name": "stdout",
     "output_type": "stream",
     "text": [
      "Y shape:  torch.Size([310, 1])\n",
      "Y_hat shape:  torch.Size([310, 1])\n",
      "1.3739986259522308\n",
      "test prediction:  tensor([0.4761], dtype=torch.float64)\n"
     ]
    }
   ],
   "source": [
    "# implement methods for predicting the probability of having label 0 or 1 (W with shape (1,13))\n",
    "def predict(X,W):\n",
    "    \"\"\" Argument\n",
    "            X: (NxD)-vector, list of input vectors, 1st column 1s -> bias\n",
    "            W: (1xD)-vector, weights for each feature, w0 -> bias\n",
    "        Return\n",
    "            s: (Nx1)-vector, softmax-squeezed probability predictions for each input vector\n",
    "    \"\"\"\n",
    "    # YOUR CODE (START)\n",
    "    # linear function\n",
    "    z = X@W.T\n",
    "\n",
    "    # softmax function NOTE: no parameters, centered in interval [-3,3] for standardized x-values\n",
    "    #             also NOTE: use torch math function so autograd gets derivative information\n",
    "    s = torch.exp(z)/(1+torch.exp(z))\n",
    "    return s\n",
    "    # YOUR CODE (END)\n",
    "\n",
    "def cost(X,Y,W):\n",
    "    # YOUR CODE (START)\n",
    "    # make predictions\n",
    "    Y_hat = predict(X,W) # (Nx1) col-vector\n",
    "\n",
    "    print(\"Y shape: \", Y.shape)\n",
    "    print(\"Y_hat shape: \", Y_hat.shape)\n",
    "\n",
    "    # Cost function (cross-entropy)\n",
    "    C = -(1/N)*( Y.T@np.log(Y_hat) + (1-Y).T@np.log(1-Y_hat)) # Summing achieved w/ inner products\n",
    "    return C.squeeze().item()\n",
    "    # YOUR CODE (END)\n",
    "\n",
    "W = torch.randn((1,13), dtype=torch.double)\n",
    "print(cost(X,Y,W))\n",
    "print(\"test prediction: \", predict(X[0],W))"
   ]
  },
  {
   "cell_type": "code",
   "execution_count": 6,
   "id": "b73745b8-c2f5-4150-a8f7-2e49f72f3566",
   "metadata": {
    "tags": []
   },
   "outputs": [
    {
     "name": "stdout",
     "output_type": "stream",
     "text": [
      "0.6225806451612903\n"
     ]
    }
   ],
   "source": [
    "def gradient_cost(X,Y,W):\n",
    "    \"\"\" gradient of cost function for set of weights W \"\"\"\n",
    "    # YOUR CODE (START)\n",
    "    s = predict(X, W) # (Nx1)\n",
    "    gradC = (1/N)*((s-Y).T@X).T\n",
    "    \n",
    "    return gradC\n",
    "    # YOUR CODE (END)\n",
    "    \n",
    "def accuracy(Y,Yhat):\n",
    "    # YOUR CODE (START)\n",
    "    prediction = Yhat\n",
    "    prediction[prediction<0.5] = 0\n",
    "    prediction[prediction>=0.5] = 1\n",
    "\n",
    "    # accuracy = correct predictions / total predictions\n",
    "    n = prediction.shape[0]\n",
    "    nCorrect = sum(prediction == Y).item() # sum() function treats True & False as 1 & 0\n",
    "    accuracy = nCorrect / n\n",
    "\n",
    "    return accuracy\n",
    "    # YOUR CODE (END)\n",
    "\n",
    "print(accuracy(Y,predict(X,W)))"
   ]
  },
  {
   "cell_type": "markdown",
   "id": "da79340e-41e2-4b8a-a1c3-f94d0e00c69e",
   "metadata": {},
   "source": [
    "Just for testing:"
   ]
  },
  {
   "cell_type": "code",
   "execution_count": 7,
   "id": "8dd82c26-6db7-43ec-84c5-2e1a9c998d08",
   "metadata": {},
   "outputs": [
    {
     "name": "stdout",
     "output_type": "stream",
     "text": [
      "test prediction:  tensor([0.1494], dtype=torch.float64)\n",
      "cost for random weights:  1.0254453539052817\n",
      "gradient of cost for random weights tensor([[-0.1252],\n",
      "        [ 0.0689],\n",
      "        [-0.0342],\n",
      "        [ 0.0602],\n",
      "        [ 0.1139],\n",
      "        [ 0.0904],\n",
      "        [-0.0514],\n",
      "        [-0.0394],\n",
      "        [-0.1957],\n",
      "        [-0.0393],\n",
      "        [-0.0925],\n",
      "        [ 0.1453],\n",
      "        [-0.0131]], dtype=torch.float64)\n",
      "prediction accuracy for random weights 0.603225806451613\n"
     ]
    }
   ],
   "source": [
    "W = torch.randn((1,13), dtype=torch.double) # initialize random weight vector\n",
    "print(\"test prediction: \", predict(X[0],W))\n",
    "print(\"cost for random weights: \", cost(X,Y,W))\n",
    "print(\"gradient of cost for random weights\", gradient_cost(X,Y,W))\n",
    "print(\"prediction accuracy for random weights\", accuracy(Y, predict(X,W)))"
   ]
  },
  {
   "cell_type": "markdown",
   "id": "bc000103-2e8d-4570-a9a6-c4aa062928cb",
   "metadata": {},
   "source": [
    "### 3. Implement Full Batch Gradient Descent"
   ]
  },
  {
   "cell_type": "code",
   "execution_count": 8,
   "id": "76f0b32a-fd22-4a94-b923-8714538a0204",
   "metadata": {},
   "outputs": [
    {
     "name": "stderr",
     "output_type": "stream",
     "text": [
      "C:\\Users\\ayome\\AppData\\Local\\Temp\\ipykernel_5568\\637360007.py:25: RuntimeWarning: divide by zero encountered in log\n",
      "  C = -(1/N)*( Y.T@np.log(Y_hat) + (1-Y).T@np.log(1-Y_hat)) # Summing achieved w/ inner products\n"
     ]
    },
    {
     "name": "stdout",
     "output_type": "stream",
     "text": [
      "Training Accuracy (max,end): 0.864516, 0.854839\n",
      "Training Cost (end): nan\n"
     ]
    },
    {
     "data": {
      "text/plain": [
       "Text(0.5, 1.0, 'accuracies')"
      ]
     },
     "execution_count": 8,
     "metadata": {},
     "output_type": "execute_result"
    },
    {
     "data": {
      "image/png": "[encoded data removed]",
      "text/plain": [
       "<Figure size 640x480 with 1 Axes>"
      ]
     },
     "metadata": {},
     "output_type": "display_data"
    },
    {
     "data": {
      "image/png": "[encoded data removed]",
      "text/plain": [
       "<Figure size 640x480 with 1 Axes>"
      ]
     },
     "metadata": {},
     "output_type": "display_data"
    }
   ],
   "source": [
    "# adjust if needed\n",
    "nepochs = 500\n",
    "lr = 1\n",
    "\n",
    "## initial weight parameters\n",
    "W = torch.randn((1,13), dtype=torch.double)\n",
    "\n",
    "# track the costs\n",
    "costs = [cost(X,Y,W)]\n",
    "accs = [accuracy(Y,predict(X,W))]\n",
    "\n",
    "# YOUR CODE (START)\n",
    "\n",
    "# loop over the epochs: update parameter values, compute the cost and add it to the costs list\n",
    "for epoch in range(nepochs):\n",
    "    W = W - lr * gradient_cost(X, Y, W).T\n",
    "    costs.append(cost(X,Y,W))\n",
    "    accs.append(accuracy(Y,predict(X,W)))\n",
    "\n",
    "# YOUR CODE (END)\n",
    "    \n",
    "# some output\n",
    "accs = np.array(accs)\n",
    "\n",
    "print(\"Training Accuracy (max,end): %f, %f\"%(np.max(accs), accs[-1]))\n",
    "print(\"Training Cost (end): %f\"%costs[-1])\n",
    "plt.figure(1)\n",
    "plt.plot(range(nepochs+1),costs)\n",
    "plt.title(\"costs\")\n",
    "plt.figure(2)\n",
    "plt.plot(range(nepochs+1),accs)\n",
    "plt.title(\"accuracies\")"
   ]
  },
  {
   "cell_type": "markdown",
   "id": "a803b0a2-81a0-4caa-95f5-631cdaaf05ba",
   "metadata": {},
   "source": [
    "### 4. Implement Full Batch Gradient Descent with PyTorch's autograd"
   ]
  },
  {
   "cell_type": "code",
   "execution_count": 9,
   "id": "be920d9c-6da8-405d-a1f8-15b690d1a870",
   "metadata": {},
   "outputs": [
    {
     "data": {
      "text/plain": [
       "[<matplotlib.lines.Line2D at 0x259eb94f970>]"
      ]
     },
     "execution_count": 9,
     "metadata": {},
     "output_type": "execute_result"
    },
    {
     "data": {
      "image/png": "[encoded data removed]",
      "text/plain": [
       "<Figure size 640x480 with 1 Axes>"
      ]
     },
     "metadata": {},
     "output_type": "display_data"
    }
   ],
   "source": [
    "nepochs = 1000\n",
    "lr = 1\n",
    "\n",
    "## initial weight parameters\n",
    "W = torch.randn((1,13), dtype=torch.double, requires_grad = True)\n",
    "\n",
    "cost_bce = torch.nn.BCELoss()\n",
    "optimizer = torch.optim.SGD([W] , lr = lr)\n",
    "\n",
    "# track the costs\n",
    "costs = []\n",
    "\n",
    "# loop over the epochs: update parameter values, compute the cost and add it to the costs list\n",
    "for epoch in range(nepochs):\n",
    "    pred = predict(X,W)\n",
    "    loss = cost_bce(pred, Y)\n",
    "    costs.append(loss.detach().numpy())\n",
    "    \n",
    "    optimizer.zero_grad()\n",
    "    loss.backward()\n",
    "    optimizer.step()\n",
    "\n",
    "costs.append(cost_bce(predict(X,W), Y).detach().numpy())\n",
    "    \n",
    "# some output\n",
    "cost_gd = costs[-1]\n",
    "plt.plot(range(nepochs+1),costs)"
   ]
  },
  {
   "cell_type": "markdown",
   "id": "b7fc7cf8-ffbd-4d78-a015-7cf2c540ad4c",
   "metadata": {},
   "source": [
    "### 5. Tune Learning Rates\n",
    "\n",
    "Play with different learning rates: Explore for what learning rates \n",
    "- the learning is most efficient\n",
    "- the learning yet works\n",
    "- the learning does not work anymore (learning rate too large)\n",
    "\n",
    "Explain the different scenarios."
   ]
  },
  {
   "cell_type": "markdown",
   "id": "0d6e5049",
   "metadata": {},
   "source": [
    "#### Answers:\n",
    "**most efficient:** lr=5 has very fast dropoff in cost with pronounced \"elbow\"\n",
    "\n",
    "**yet works:** at lr=10 accuracy is taking longer to converge again. \n",
    "\n",
    "**not working anymore:** at lr=20, oscillations don't stop"
   ]
  }
 ],
 "metadata": {
  "kernelspec": {
   "display_name": "Python 3 (ipykernel)",
   "language": "python",
   "name": "python3"
  },
  "language_info": {
   "codemirror_mode": {
    "name": "ipython",
    "version": 3
   },
   "file_extension": ".py",
   "mimetype": "text/x-python",
   "name": "python",
   "nbconvert_exporter": "python",
   "pygments_lexer": "ipython3",
   "version": "3.10.13"
  }
 },
 "nbformat": 4,
 "nbformat_minor": 5
}
