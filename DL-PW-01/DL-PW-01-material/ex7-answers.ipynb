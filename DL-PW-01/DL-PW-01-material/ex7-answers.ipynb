{
 "cells": [
  {
   "cell_type": "markdown",
   "metadata": {},
   "source": [
    "1. Supervised vs. unsupervised systems\n",
    "    - a: supervised, given data is labeled, classification problem\n",
    "    - b: unsupervised, no clear labels defined, clustering problem\n",
    "    - c: unsupervised, hidden structure shall be found, clustering problem\n",
    "    - d: supervised, classified data given, classification problem\n",
    "\n",
    "2. Classification vs. regression systems\n",
    "- If we discretize the desired output of a regression problem we can turn it into a classification problem. Doing this may enable different methods to be applied to a problem.\n",
    "\n",
    "3.  Numpy array\n",
    "    - a: A numpy array has more built in operations and allows for broadcasting\n",
    "    - b: Yes but it will automatically turn all data into the same type\n",
    "    - c: The rank is then number of dimensions of an array\n",
    "    - d: The rank is 2, one dimension for the rows of the image, one dimension for the columns of the image. A square grayscale image img could have img.shape = (100,100)\n",
    "    - e: A color image would have rank 3. The additional dimension is for the color channels of the image. A square RGB image img could have img.shape = (100,100,3)"
   ]
  }
 ],
 "metadata": {
  "language_info": {
   "name": "python"
  }
 },
 "nbformat": 4,
 "nbformat_minor": 2
}
