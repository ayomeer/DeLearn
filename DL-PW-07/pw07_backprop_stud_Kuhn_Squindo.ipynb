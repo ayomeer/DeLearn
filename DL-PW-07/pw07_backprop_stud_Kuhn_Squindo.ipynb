{
 "cells": [
  {
   "cell_type": "markdown",
   "id": "88de7e72-0814-405b-8c2c-cefa78d66dc0",
   "metadata": {},
   "source": [
    "### Model\n",
    "\n",
    "A Model here consists of a succession of layers.\n",
    "\n",
    "Each layer is implemented as a class with the following API-methods:\n",
    "\n",
    "- `forward(torch.tensor)`: Computes the forward pass through the layer, i.e. $x\\rightarrow a$<br> and keeps the information needed for computing the backward pass as member variables. \n",
    "\n",
    "- `backward(torch.tensor)`: Computes the backward pass through the layer in form of the derivatives, i.e. $da \\rightarrow dx$. On the fly, it also computes the derivatives w.r.t. the parameters of the layer and keeps them as member variables. It assumes that `forward` method has been run before. <br>\n",
    "\n",
    "- `update(lr)`: Updates the parameters of the layer in accordance with vanilla gradient descent and scalar learning rate `lr`. It assumes that the `forward` and the `backward`-pass has been run before.  \n",
    "\n",
    "The tensors defined as inputs to the `forward`/`backward`-method are two dimensional with the sample index in the first dimensionand the the feature index in the second. \n",
    "\n",
    "For fully connected layers with activation function $s(\\cdot)$ the formulas are given as follows:"
   ]
  },
  {
   "cell_type": "markdown",
   "id": "10bdbdc5-d75a-416b-a5df-dfd3ef1fca05",
   "metadata": {},
   "source": [
    "__Forward path:__\n",
    "\n",
    "$X_{i,j}$: Tensor with shape $(n_b,n_x)$ where $n_b$ is the number of samples in the batch and $n_x$ the number of input features (for MNIST: 784).\n",
    "\n",
    "$Z_{i,j} = \\sum_k X_{i,k} W_{j,k} \\qquad (Z = X \\cdot W^T + b)$ $\\qquad$ ($W$ a tensor of shape $(n_h,n_x)$)\n",
    "\n",
    "$n_h$ is the number of outputs for that layer\n",
    "\n",
    "$A_{i,j} = s(Z_{i,j}) \\qquad\\qquad (A = s(Z))$\n",
    "\n",
    "__Backward path:__ (with $n_b$ the number of samples in a batch)\n",
    "\n",
    "For specific sample $i$ and neuron $k$:\n",
    "\n",
    "$dx_{i,k} = \\frac{\\partial L}{\\partial x_{i,k}} = \\sum_j \\frac{\\partial L}{\\partial a_{i,j}} \\frac{\\partial a_{i,j}}{\\partial x_{i,k}} = \\sum_j da_{i,j} s^\\prime(z_{i,j})\\cdot \\frac{\\partial z_{i,j}}{\\partial x_{i,k}} = \\sum_j da_{i,j} s^\\prime(z_{i,j}) W_{j,k}$ $ \\quad$ where $\\quad \\frac{\\partial L}{\\partial a_{i,j}} = da_{i,j}$ <br>\n",
    "\n",
    "$dW_{j,k} = \\frac{\\partial L}{\\partial W_{j,k}} = \\frac{1}{n_b}\\sum_{i,l} dA_{i,l}\\frac{\\partial A_{i,l}}{\\partial W_{j,k}} = \\frac{1}{n_b}\\sum_{i,l} dA_{i,l} s^\\prime(Z_{i,l}) \\delta_{j,l} X_{i,k} = \\frac{1}{n_b}\\sum_{i} dA_{i,j} s^\\prime(Z_{i,j}) X_{i,k} $<br>\n",
    "\n",
    "Indices:\n",
    "- i: Sample\n",
    "- j: Feature\n",
    "- k: Neuron within layer\n",
    "\n"
   ]
  },
  {
   "cell_type": "markdown",
   "id": "7ad958e2-bb1e-493f-9c4d-40514e20c479",
   "metadata": {},
   "source": [
    "__Parameter Initialisation__ \n",
    "\n",
    "The parameters need to be initialised which will be a topic later in the course. For now use the following rules: \n",
    "* weights normally distributed with mean $0$ and stdev $1/\\sqrt{n_h}$\n",
    "* bias initialized with zero values"
   ]
  },
  {
   "cell_type": "markdown",
   "id": "6c6d7916-88e9-4cc9-91e8-ec600741370d",
   "metadata": {
    "tags": []
   },
   "source": [
    "#### <span style=\"color:red\">Important Note on the Implementation</span>\n",
    "\n",
    "Make sure that all the tensors used anywhere in the model components below have `requires_grad=False` (default value).\n",
    "Autograd functionality is not allowed for computing the gradients. - Autograd will be used below for testing whether your implementation is correct."
   ]
  },
  {
   "cell_type": "code",
   "execution_count": 24,
   "id": "7d3c3737-73dc-481a-8cf0-afb3657ca3cc",
   "metadata": {},
   "outputs": [],
   "source": [
    "import math\n",
    "import numpy as np\n",
    "import torch\n",
    "import torchvision"
   ]
  },
  {
   "cell_type": "code",
   "execution_count": 25,
   "id": "8e0b0ab6",
   "metadata": {},
   "outputs": [
    {
     "data": {
      "text/plain": [
       "True"
      ]
     },
     "execution_count": 25,
     "metadata": {},
     "output_type": "execute_result"
    }
   ],
   "source": [
    "torch.cuda.is_available()"
   ]
  },
  {
   "cell_type": "markdown",
   "id": "3eae0f20-6928-481d-96b2-02cbfa298760",
   "metadata": {},
   "source": [
    "### Linear Layer"
   ]
  },
  {
   "cell_type": "code",
   "execution_count": 26,
   "id": "c81dc286-9543-4278-a174-6fbba6be026f",
   "metadata": {},
   "outputs": [],
   "source": [
    "class LinearLayer():\n",
    "    def __init__(self, nx, nh):\n",
    "        \"\"\"\n",
    "        nx -- number of input features, i.e. shape of input tensors x given by (*,nb_input)\n",
    "        nh -- number of output features, i.e. shape of output tensor z given by (*,nb_hidden)\n",
    "        \"\"\"    \n",
    "        self.nx = nx\n",
    "        self.nh = nh\n",
    "        self.w = torch.empty(nh, nx).normal_(0, 1./math.sqrt(self.nh))\n",
    "        self.b = torch.zeros(nh)\n",
    "        self.dw = torch.zeros_like(self.w)\n",
    "        self.db = torch.zeros_like(self.b)\n",
    "        self.x = None\n",
    "        self.dx = None\n",
    "    \n",
    "    def forward(self, x):\n",
    "        \"\"\"\n",
    "        Computes the forward pass through the layer (x -> z)\n",
    "        x -- input tensor\n",
    "        returns z \n",
    "        \"\"\"\n",
    "        ### YOUR CODE START ###\n",
    "        z = x@self.w.T + self.b\n",
    "        self.x = x # save for dx computation in backward() method\n",
    "        return z\n",
    "        ### YOUR CODE END ###\n",
    "    \n",
    "    def backward(self, dz):\n",
    "        \"\"\"\n",
    "        Computes the backward pass through the layer incl. the derivatives w.r.t. input x (dx), weight w (dw) and bias b (db).\n",
    "        dz -- tensor with the backprop'd error signal with the same shape as z.         \n",
    "        returns dx\n",
    "        \"\"\"\n",
    "        assert len(dz.shape)==2 and dz.shape[1] == self.nh\n",
    "        ### YOUR CODE START ###\n",
    "        dx = dz@self.w # equivalent to dx = inv(W)@dz\n",
    "        self.dx = dx\n",
    "        \n",
    "        self.dw = dz.T @ self.x\n",
    "        self.db = torch.sum(dz, dim=0)\n",
    "\n",
    "        return dx\n",
    "        ### YOUR CODE END ###\n",
    "            \n",
    "    def update(self, lr):\n",
    "        \"\"\"\n",
    "        Updates the parameters of the model (weights w and bias b) with the gradient w.r.t. w and b and learning rate.\n",
    "        returns None\n",
    "        \"\"\"\n",
    "        ### YOUR CODE START ###\n",
    "        self.w -= lr * self.dw\n",
    "        self.b -= lr * self.db\n",
    "        ### YOUR CODE END ###\n",
    "\n"
   ]
  },
  {
   "cell_type": "markdown",
   "id": "31f9fd5b-a7b6-4a74-bd71-ab9bc1c79263",
   "metadata": {},
   "source": [
    "<span style=\"color:blue\">SHAPE TEST:</span>"
   ]
  },
  {
   "cell_type": "code",
   "execution_count": 27,
   "id": "28d46297-caf7-4b69-bc8f-9b32eb25590d",
   "metadata": {},
   "outputs": [],
   "source": [
    "linear = LinearLayer(3,4)\n",
    "assert (4,3) == linear.w.shape\n",
    "assert (4,)  == linear.b.shape\n",
    "\n",
    "x = torch.tensor([[1.,2,3],\n",
    "                  [4,5,6]])\n",
    "a = linear.forward(x)\n",
    "assert (2,4) == a.shape\n",
    "\n",
    "dz = torch.tensor([[1.,1,1,1],\n",
    "                   [2.,2,2,2]])\n",
    "dx = linear.backward(dz)\n",
    "assert (2,3) == dx.shape\n",
    "assert (4,3) == linear.dw.shape"
   ]
  },
  {
   "cell_type": "markdown",
   "id": "656e7383-adf3-4822-9d99-644b9eb33e07",
   "metadata": {},
   "source": [
    "### Activation Function\n",
    "\n",
    "__Sigmoid__"
   ]
  },
  {
   "cell_type": "code",
   "execution_count": null,
   "id": "65efe890",
   "metadata": {},
   "outputs": [],
   "source": []
  },
  {
   "cell_type": "code",
   "execution_count": 28,
   "id": "06b126ce",
   "metadata": {},
   "outputs": [],
   "source": [
    "def s(x):\n",
    "    x_norm = torch.sign(x) * torch.clamp(torch.abs(x), 1e-4, 70)\n",
    "    return torch.exp(x_norm)/(1+torch.exp(x_norm))"
   ]
  },
  {
   "cell_type": "code",
   "execution_count": 29,
   "id": "ae86ae0a-0382-4349-acb9-6b1e29be36ac",
   "metadata": {
    "tags": []
   },
   "outputs": [],
   "source": [
    "class SigmoidActivation():\n",
    "\n",
    "    def __init__(self):\n",
    "        self.z = None\n",
    "    \n",
    "    def forward(self, z):\n",
    "        ### YOUR CODE START ###\n",
    "        a = s(z)\n",
    "        self.z=z # track input to get derivative at this point in backward pass\n",
    "        return a\n",
    "        ### YOUR CODE END ###\n",
    "\n",
    "    def backward(self, da):\n",
    "        \"\"\" Takes da = dL/da and adds on sigmoid derivative s(z0)*(1-s(z0)) \"\"\"\n",
    "        ### YOUR CODE START ###\n",
    "        dz = da * s(self.z) * (1 - s(self.z))\n",
    "        \n",
    "        return dz\n",
    "        ### YOUR CODE END ###\n",
    "            \n",
    "    def update(self, lr):\n",
    "        ### YOUR CODE START ###\n",
    "        # No params to update\n",
    "        pass\n",
    "        \n",
    "        ### YOUR CODE END ###\n"
   ]
  },
  {
   "cell_type": "markdown",
   "id": "6d949cda-b92b-4c17-a868-73dec9fd1718",
   "metadata": {},
   "source": [
    "### Model\n",
    "\n",
    "Now implement an MLP as a succession of layers - linear layers and non-linear activation layers.\n",
    "For creating an instance, you will pass the following arguments: \n",
    "* __nx__: number of input features\n",
    "* __nunits__: _list_ of number of units in the hidden layers _including the output layer_\n",
    "\n",
    "Add a list of layers as member variable.\n",
    "\n",
    "Use just a linear layer at the end. Further below we will use a CE loss which is based on the finally output logit values (see lecture of week 2) where the softmax probabilities are implicit."
   ]
  },
  {
   "cell_type": "code",
   "execution_count": 32,
   "id": "ee66c47a-d587-47af-8d10-384a157948f6",
   "metadata": {},
   "outputs": [],
   "source": [
    "class MLP():\n",
    "    \n",
    "    def __init__(self, nx, nunits):\n",
    "        self.nx = nx\n",
    "        self.nlayers = len(nunits)\n",
    "        self.nunits = nunits\n",
    "        self.nunits.insert(0,nx)\n",
    "        self.nclasses = self.nunits[-1]\n",
    "        self.layers = []\n",
    "        \n",
    "        ### YOUR CODE START ###\n",
    "        # instantiate the different layers (linear and activations)\n",
    "        for l in range(self.nlayers):\n",
    "            if l==0:\n",
    "                self.layers.append(LinearLayer(nx, nunits[l+1])) \n",
    "            else:\n",
    "                self.layers.append(LinearLayer(nunits[l], nunits[l+1])) \n",
    "      \n",
    "            self.layers.append(SigmoidActivation())\n",
    "        \n",
    "        self.layers.pop() # pop sigmoid layer off of output stage\n",
    "        ### YOUR CODE END ###\n",
    "\n",
    "        \n",
    "    def forward(self, x):\n",
    "        \"\"\"\n",
    "        x - input tensor        \n",
    "        returns output tensor of the model\n",
    "        \"\"\"\n",
    "        \n",
    "        ### YOUR CODE START ###\n",
    "        prev_layer_ouput = x\n",
    "        for layer in self.layers:\n",
    "            prev_layer_ouput = layer.forward(prev_layer_ouput)\n",
    "        \n",
    "        last_layer_output = prev_layer_ouput\n",
    "        return last_layer_output\n",
    "        ### YOUR CODE END ###\n",
    "    \n",
    "    def backward(self, dy):\n",
    "        \"\"\"\n",
    "        dy - derivative (of Loss) w.r.t. output tensor\n",
    "        \n",
    "        returns derivative with respect to the input tensor of the model; \n",
    "        on the fly compute all the derivatives w.r.t. parameters of the model\n",
    "        \"\"\"        \n",
    "        ### YOUR CODE START ###\n",
    "        \n",
    "        gradient = dy\n",
    "        for layer in reversed(self.layers):\n",
    "            gradient = layer.backward(gradient)\n",
    "        \n",
    "        dx = gradient\n",
    "        return dx\n",
    "        ### YOUR CODE END ###\n",
    "    \n",
    "    def update(self, lr):\n",
    "        \"\"\"\n",
    "        Update the parameters with the given (stored) derivatives w.r.t. model parameters by using the given learning rate. \n",
    "        \"\"\"\n",
    "        ### YOUR CODE START ###\n",
    "        for layer in self.layers:\n",
    "            layer.update(lr)\n",
    "            \n",
    "        \n",
    "        \n",
    "        ### YOUR CODE END ###\n",
    "            "
   ]
  },
  {
   "cell_type": "markdown",
   "id": "1d0859db-1d16-4652-8549-b09fa695602b",
   "metadata": {},
   "source": [
    "<span style=\"color:blue\">SHAPE TEST:</span>"
   ]
  },
  {
   "cell_type": "code",
   "execution_count": 33,
   "id": "6020ece6-ccfe-4242-b72c-4d00c0c1f07e",
   "metadata": {},
   "outputs": [],
   "source": [
    "nx = 2\n",
    "nunits = [3,4]\n",
    "mlp = MLP(nx,nunits)\n",
    "assert 3 == len(mlp.layers)\n",
    "\n",
    "x = torch.tensor([[1.,2],\n",
    "                  [3,4]])\n",
    "a = mlp.forward(x)\n",
    "assert (2,4) == a.shape\n",
    "\n",
    "da = torch.tensor([[1.,1,1,1],\n",
    "                   [2.,2,2,2]])\n",
    "dx = mlp.backward(da)\n",
    "assert (2,2) == dx.shape\n"
   ]
  },
  {
   "cell_type": "markdown",
   "id": "c08f5f56-97d9-47c3-b0c8-ee3699c2eaca",
   "metadata": {},
   "source": [
    "### Regression Test\n",
    "\n",
    "Create a regression testing that allows you to test your implementation by regressing against the gradients computed by pytorch's autograd.\n",
    "\n",
    "Below you find two functions that may be helpful in \n",
    "1. creating a reference model from the given model - makes sure that in the reference model the exact same initialized parameters are used; furthermore, that the parameters of the linear layers (w,b) are specified as tensors with `requires_grad=True`. \n",
    "2. comparing the derivatives w.r.t. parameters for model and refmodel. It assumes that for both, model and refmodel, backprop has been executed. For the model, it means that `backward()`has been executed - for the ref model, only `forward` has been executed, but `backward` applied to the output tensor of the refmodel. For the remodel, we use `grad` of the weights and bias tensors, for the model the parameters `dw` and `db` as basis for the comparison.\n",
    "\n",
    "<span style=\"color:red\">Adjust these methods to make them compliant with your model - it uses internals of our implementation.</span>"
   ]
  },
  {
   "cell_type": "code",
   "execution_count": null,
   "id": "3e33f3c4-ab4a-4271-9d5f-39cc9f53ccc4",
   "metadata": {},
   "outputs": [],
   "source": [
    "def create_refmodel(model):\n",
    "    \"\"\" Creates copy of MLP with autograd on params\"\"\"\n",
    "    refmodel = MLP(model.nx, model.nunits[1:])\n",
    "    for i,layer in enumerate(model.layers):\n",
    "        if isinstance(layer, LinearLayer):\n",
    "            refmodel.layers[i].w = model.layers[i].w.detach().clone()\n",
    "            refmodel.layers[i].w.requires_grad_()\n",
    "            refmodel.layers[i].b = model.layers[i].b.detach().clone()\n",
    "            refmodel.layers[i].b.requires_grad_()\n",
    "    return refmodel\n",
    "\n",
    "def test_params(model, refmodel, digits=8):\n",
    "    for i,layer in enumerate(model.layers):\n",
    "        if isinstance(layer, LinearLayer):\n",
    "            try:\n",
    "                xxref = refmodel.layers[i].w.grad.detach().numpy()\n",
    "                xx = model.layers[i].dw.numpy()\n",
    "                np.testing.assert_array_almost_equal(xx, xxref, decimal=digits, err_msg=\"Error: layer %i\"%i)\n",
    "                \n",
    "                xxref = refmodel.layers[i].b.grad.detach().numpy()\n",
    "                xx = model.layers[i].db.numpy()\n",
    "                np.testing.assert_array_almost_equal(xx, xxref, decimal=digits, err_msg=\"Error: layer %i\"%i)\n",
    "\n",
    "            except Exception as e:\n",
    "                print(\"test failed - reason:\",e) \n",
    "    "
   ]
  },
  {
   "cell_type": "markdown",
   "id": "3baf6929-9a82-4ec6-94d1-90ccad1752e0",
   "metadata": {},
   "source": [
    "<span style=\"color:blue\"> REGRESSION TEST</span>"
   ]
  },
  {
   "cell_type": "markdown",
   "id": "5ffbe89e",
   "metadata": {},
   "source": [
    "Note: The input x is set up as a single sample of 10 inputs and the model outputs a single value as per `nunits[-1]=1`, hence the shape of `dz` was changed to (1,1)."
   ]
  },
  {
   "cell_type": "code",
   "execution_count": 38,
   "id": "f80d2e20-4fb6-4ed9-ab7f-670d9aca8b1a",
   "metadata": {},
   "outputs": [],
   "source": [
    "# inputs\n",
    "nx = 10\n",
    "x = torch.randn(nx).reshape(-1,nx) # shape: (1,10)\n",
    "\n",
    "# -- custom model ------------------------------------------------------------------------------\n",
    "\n",
    "# model instance\n",
    "nunits = [20,40,1]\n",
    "mlp = MLP(nx,nunits)\n",
    "\n",
    "# forward and backward pass\n",
    "z = mlp.forward(x)\n",
    "# dz = torch.tensor([1.,1.]).reshape(-1,1) # shape: (2,1)\n",
    "dz = torch.tensor([1.]).reshape(-1,1) # expected shape of dz with nunits[-1]=1\n",
    "dx = mlp.backward(dz)\n",
    "\n",
    "# -- ref model (autograd) ----------------------------------------------------------------------\n",
    "\n",
    "# create ref model\n",
    "mlpref = create_refmodel(mlp)\n",
    "\n",
    "# only use the forward method of the ref model - and apply backward to the output tensor.\n",
    "zref = mlpref.forward(x) \n",
    "zref.backward()\n",
    "\n",
    "# -- comparison --------------------------------------------------------------------------------\n",
    "\n",
    "# compare the derivatives computed by your model with the grad computed by pytorch's autograd\n",
    "test_params(mlp, mlpref, digits=7)"
   ]
  },
  {
   "cell_type": "markdown",
   "id": "468d6187-bbbd-4bf1-ae3f-929342eeb39d",
   "metadata": {},
   "source": [
    "### Cost \n",
    "\n",
    "Use the cross-entropy cost function directly defined on the basis of the logits - which implicitly includes a softmax calculation (see lecture notes of week 2)."
   ]
  },
  {
   "cell_type": "code",
   "execution_count": 13,
   "id": "e622d78f",
   "metadata": {},
   "outputs": [],
   "source": [
    "from torch.nn.functional import one_hot"
   ]
  },
  {
   "cell_type": "code",
   "execution_count": 14,
   "id": "f26dbc1b-697b-46cd-94de-d78e701921f4",
   "metadata": {},
   "outputs": [],
   "source": [
    "\n",
    "class CELoss():\n",
    "    \n",
    "    def value(self, z, y):\n",
    "        \"\"\"\n",
    "            z       -- tensor of shape (number of samples nb, number of classes) with the final logits of the model. \n",
    "            y       -- tensor of shape (number of samples nb) with the label values.\n",
    "            return  -- cross-entropy cost for batch (not loss)\n",
    "        \"\"\"\n",
    "        ### YOUR CODE START ###\n",
    "        nb = y.shape[0]\n",
    "        z_norm = torch.sign(z) * torch.clamp(torch.abs(z), 1e-4, 60)\n",
    "        s = torch.exp(z_norm[torch.arange(nb), y[:]])/ torch.sum(torch.exp(z_norm), dim = 1)\n",
    "        ret = -torch.log(s)\n",
    "        return ret.sum()\n",
    "        ### YOUR CODE END ###\n",
    "\n",
    "    def derivative(self, z, y):\n",
    "        \"\"\" \n",
    "        Derivative of value function w.r.t input z = Y_hat \n",
    "        Args:\n",
    "            z -- tensor of shape (number of samples, number of classes) with the final logits of the model. \n",
    "            y -- tensor of shape (number of samples) with the label values -> convert to 1-hot\n",
    "        \"\"\"\n",
    "        ### YOUR CODE START ###\n",
    "        Y_hat = one_hot(y)\n",
    "        z_norm = torch.sign(z) * torch.clamp(torch.abs(z), 1e-4, 60)\n",
    "        s = torch.exp(z_norm)/ torch.sum(torch.exp(z_norm), dim = 1)[:,None]\n",
    "        return s-Y_hat\n",
    "\n",
    "        ### YOUR CODE END ###\n"
   ]
  },
  {
   "cell_type": "code",
   "execution_count": 15,
   "id": "9e9e731f-7163-4cc9-a5b0-5c2a000ef8d9",
   "metadata": {},
   "outputs": [],
   "source": [
    "# Test correct implementation of CELoss\n",
    "loss = CELoss()\n",
    "\n",
    "# Test vectors with known cost values \n",
    "ypred = torch.log(torch.tensor([[0.5, 0.4, 0.1],\n",
    "                                [0.2, 0.1, 0.7]])).reshape(-1,3) # -> logits z for 2 samples and 3 output features\n",
    "y = torch.tensor([1, 2]).reshape(-1)                             # -> true class indices for 2 samples \n",
    "                                                                 \n",
    "expected_loss_value=-torch.log(torch.tensor([0.4, 0.7])).sum()\n",
    "expected_loss_derivative=torch.tensor([[ 0.5000, -0.6000,  0.1000],\n",
    "                                      [ 0.2000,  0.1000, -0.3000]])\n",
    "\n",
    "# Test equivalence of cost implementations\n",
    "np.testing.assert_almost_equal(loss.value(ypred,y), expected_loss_value, decimal=8)\n",
    "np.testing.assert_array_almost_equal(loss.derivative(ypred,y), expected_loss_derivative, decimal=8)"
   ]
  },
  {
   "cell_type": "markdown",
   "id": "648ab724-6516-47ec-9aad-8a2a99a1e78f",
   "metadata": {},
   "source": [
    "### Load Data\n",
    "\n",
    "As in previous' week PW. "
   ]
  },
  {
   "cell_type": "code",
   "execution_count": 17,
   "id": "da6cb457-1da9-4c14-83c2-345dfe0bf29e",
   "metadata": {},
   "outputs": [],
   "source": [
    "from torch.utils.data import Dataset, DataLoader\n",
    "from torchvision import datasets\n",
    "from torchvision.transforms import ToTensor\n",
    "import matplotlib.pyplot as plt"
   ]
  },
  {
   "cell_type": "code",
   "execution_count": 18,
   "id": "b8a76b89-ea2c-4e26-a43d-874ca5b75e04",
   "metadata": {},
   "outputs": [],
   "source": [
    "train_data = datasets.MNIST(\n",
    "    root=\"data\",\n",
    "    train=True,\n",
    "    download=True,\n",
    "    transform=ToTensor()\n",
    ")\n",
    "test_data = datasets.MNIST(\n",
    "    root=\"data\",\n",
    "    train=False,\n",
    "    download=True,\n",
    "    transform=ToTensor()\n",
    ")"
   ]
  },
  {
   "cell_type": "markdown",
   "id": "795f7fbd-b5fe-432d-b59e-732154aea809",
   "metadata": {
    "tags": []
   },
   "source": [
    "### Training Loop\n",
    "\n",
    "Implement mini-batch gradient descent training loop. \n",
    "\n",
    "With the implementation of the two methods below you will be able to train and test the MLP:\n",
    "* train_epoch: for training the model over one epoch with per mini-batch updates\n",
    "* test_epoch: for evaluating the test/validation performance per epoch."
   ]
  },
  {
   "cell_type": "code",
   "execution_count": 21,
   "id": "69d69729-6a94-45a6-b6c6-9ecc7d4f2f9c",
   "metadata": {
    "tags": []
   },
   "outputs": [
    {
     "name": "stdout",
     "output_type": "stream",
     "text": [
      "Epoch: 0, Train Accuracy: 7.8%, Train Loss: 3.719604\n",
      "Epoch: 10, Train Accuracy: 18.8%, Train Loss:      inf\n",
      "Epoch: 20, Train Accuracy: 17.2%, Train Loss:      inf\n",
      "Epoch: 30, Train Accuracy: 25.0%, Train Loss:      inf\n",
      "Epoch: 40, Train Accuracy: 26.6%, Train Loss:      inf\n",
      "Epoch: 50, Train Accuracy: 18.8%, Train Loss:      inf\n",
      "Epoch: 60, Train Accuracy: 17.2%, Train Loss:      inf\n",
      "Epoch: 70, Train Accuracy: 23.4%, Train Loss:      inf\n",
      "Epoch: 80, Train Accuracy: 29.7%, Train Loss:      inf\n",
      "Epoch: 90, Train Accuracy: 29.7%, Train Loss:      inf\n"
     ]
    }
   ],
   "source": [
    "def train_epoch(model, loss, dataloader, lr):\n",
    "    \"\"\"\n",
    "    Iterate over the mini-batches of one epoch, compute per mini-batch the forward and backward pass \n",
    "    and update the parameters. Also compute the loss and accuracy as an average over the epoch. \n",
    "    Note that this average includes per mini-batch updated model predictions and parameter updates.\n",
    "    model -- model to be trained\n",
    "    loss -- loss function to be used \n",
    "    dataloader -- data loader that provides mini-batches (from the training set)\n",
    "    lr -- learning rate to be used in the parameter updates     \n",
    "    returns loss, accuracy \n",
    "    \"\"\"\n",
    "    ### YOUR CODE START ###\n",
    "    nsamples = len(dataloader.dataset)\n",
    "    trainloss, correct = 0.0, 0\n",
    "    for X, y in dataloader:\n",
    "        batchsize = X.shape[0]\n",
    "        X = X.view(batchsize, -1)\n",
    "        z = model.forward(X)\n",
    "        batchloss = loss.value(z, y)\n",
    "        trainloss += batchloss.item()\n",
    "        correct += (z.argmax(dim=1) == y).type(torch.float).sum().item()\n",
    "\n",
    "        # Backpropagation\n",
    "        dz = loss.derivative(z,y) # loss GRADIENT dL/d<model_output>\n",
    "        dx = model.backward(dz)\n",
    "        model.update(lr)\n",
    "    trainloss /= nsamples\n",
    "    correct /= nsamples\n",
    "    return trainloss, correct\n",
    "    ### YOUR CODE START ###\n",
    "\n",
    "\n",
    "def test_epoch(model, loss, dataloader):\n",
    "    \"\"\"\n",
    "    Iterate over the mini-batches of one epoch of the test set. Iterates over the mini-batches of the test set.\n",
    "    Estimates loss and accuracy as an average over the test (validation) set. The model is not updates here. \n",
    "    model -- model to be evaluated\n",
    "    loss -- loss function to be evaluated \n",
    "    dataloader -- data loader that provides mini-batches (from the test/validation set)\n",
    "    returns loss, accuracy \n",
    "    \"\"\"\n",
    "    nsamples = len(dataloader.dataset)\n",
    "    testloss, correct = 0.0, 0\n",
    "    for X, y in dataloader:\n",
    "        batchsize = X.shape[0]\n",
    "        X = X.view(batchsize, -1)\n",
    "        z = model.forward(X)\n",
    "        testloss += loss.value(z, y)\n",
    "        correct += (z.argmax(dim=1) == y).type(torch.float).sum().item()\n",
    "\n",
    "    testloss /= nsamples\n",
    "    correct /= nsamples\n",
    "    return testloss, correct\n",
    "\n",
    "epochs = 100\n",
    "lr = 1.0\n",
    "mlp = MLP(28*28, [100, 10])\n",
    "mseloss = CELoss()\n",
    "trainlosses = []\n",
    "trainaccs = []\n",
    "for t in range(epochs):\n",
    "    trainloss, trainacc = train_epoch(mlp, mseloss, train_loader, lr)\n",
    "    trainlosses.append(trainloss)\n",
    "    trainaccs.append(trainacc)\n",
    "    if t%10==0:\n",
    "        print(f\"Epoch: {t}, Train Accuracy: {(100*trainacc):>0.1f}%, Train Loss: {trainloss:>8f}\")\n"
   ]
  },
  {
   "cell_type": "markdown",
   "id": "7aa35d97",
   "metadata": {},
   "source": [
    "Note: All prior assertions ran through without issue, and seeing as one of those assertions confirms, that the loss and its derivative are being calculated correctly, we are stumped as to why the loss shoots off to infinity during training. We spent a lot of time double checking everything but could not find the issue."
   ]
  },
  {
   "cell_type": "markdown",
   "id": "4d2c7fe4-5c5f-40d4-a7b2-8f650140094f",
   "metadata": {},
   "source": [
    "### First Simple Check: Overfitting on Single Sample\n",
    "\n",
    "Load an arbitrary mini-batch from the training set. Train the model by using just this mini-batch.\n",
    "This is another test for checking whether your implementation is capable of learning something (see remark in week 2 of the course)."
   ]
  },
  {
   "cell_type": "code",
   "execution_count": 20,
   "id": "73f29756-4bba-473e-83e9-17996fe1b07a",
   "metadata": {},
   "outputs": [
    {
     "name": "stdout",
     "output_type": "stream",
     "text": [
      "torch.Size([64, 1, 28, 28]) torch.Size([64])\n"
     ]
    }
   ],
   "source": [
    "sample_batch, _ = torch.utils.data.random_split(train_data, [64, 60000-64])\n",
    "train_loader = DataLoader(sample_batch, batch_size=64, shuffle=False) # shuffling not needed since only one batch is used.\n",
    "\n",
    "sample_x,sample_y = next(iter(train_loader))\n",
    "print(sample_x.shape,sample_y.shape)"
   ]
  },
  {
   "cell_type": "code",
   "execution_count": 334,
   "id": "9c9c8561-8484-48b2-9369-075f076fa983",
   "metadata": {
    "tags": []
   },
   "outputs": [
    {
     "name": "stdout",
     "output_type": "stream",
     "text": [
      "Epoch: 0, Train Accuracy: 10.9%, Train Loss: 3.157352\n",
      "Epoch: 10, Train Accuracy: 12.5%, Train Loss:      inf\n",
      "Epoch: 20, Train Accuracy: 9.4%, Train Loss:      inf\n",
      "Epoch: 30, Train Accuracy: 10.9%, Train Loss:      inf\n",
      "Epoch: 40, Train Accuracy: 12.5%, Train Loss:      inf\n",
      "Epoch: 50, Train Accuracy: 12.5%, Train Loss:      inf\n",
      "Epoch: 60, Train Accuracy: 15.6%, Train Loss:      inf\n",
      "Epoch: 70, Train Accuracy: 12.5%, Train Loss:      inf\n",
      "Epoch: 80, Train Accuracy: 14.1%, Train Loss:      inf\n",
      "Epoch: 90, Train Accuracy: 17.2%, Train Loss:      inf\n"
     ]
    }
   ],
   "source": [
    "epochs = 100\n",
    "lr = 1.0\n",
    "mlp = MLP(28*28, [100, 10])\n",
    "mseloss = CELoss()\n",
    "trainlosses = []\n",
    "trainaccs = []\n",
    "for t in range(epochs):\n",
    "    trainloss, trainacc = train_epoch(mlp, mseloss, train_loader, lr)\n",
    "    trainlosses.append(trainloss)\n",
    "    trainaccs.append(trainacc)\n",
    "    if t%10==0:\n",
    "        print(f\"Epoch: {t}, Train Accuracy: {(100*trainacc):>0.1f}%, Train Loss: {trainloss:>8f}\")"
   ]
  },
  {
   "cell_type": "code",
   "execution_count": 172,
   "id": "2464995e-355c-4562-8619-7dea93e5d8ec",
   "metadata": {},
   "outputs": [
    {
     "data": {
      "text/plain": [
       "Text(0.5, 1.0, 'Train Accuracy')"
      ]
     },
     "execution_count": 172,
     "metadata": {},
     "output_type": "execute_result"
    },
    {
     "data": {
      "image/png": "[encoded data removed]",
      "text/plain": [
       "<Figure size 640x480 with 1 Axes>"
      ]
     },
     "metadata": {},
     "output_type": "display_data"
    },
    {
     "data": {
      "image/png": "[encoded data removed]",
      "text/plain": [
       "<Figure size 640x480 with 1 Axes>"
      ]
     },
     "metadata": {},
     "output_type": "display_data"
    }
   ],
   "source": [
    "plt.figure(1)\n",
    "plt.plot(torch.arange(epochs), trainlosses,\"b-\")\n",
    "plt.title(\"Train Loss\")\n",
    "\n",
    "plt.figure(2)\n",
    "plt.plot(torch.arange(epochs), trainaccs,\"b-\")\n",
    "plt.ylim([0.0,1])\n",
    "plt.title(\"Train Accuracy\")"
   ]
  },
  {
   "cell_type": "markdown",
   "id": "4d366251-a20b-4aac-bc33-a4c09607078c",
   "metadata": {
    "tags": []
   },
   "source": [
    "### Training with all the training set"
   ]
  },
  {
   "cell_type": "code",
   "execution_count": 312,
   "id": "32f164c3-0e81-478d-ac9e-c5770d55075c",
   "metadata": {},
   "outputs": [],
   "source": [
    "train_loader = DataLoader(train_data, batch_size=64, shuffle=True)\n",
    "test_loader = DataLoader(test_data, batch_size=64, shuffle=True)"
   ]
  },
  {
   "cell_type": "code",
   "execution_count": 314,
   "id": "8ad2ab4f-b355-4fd3-9fad-7f27d3bd3a06",
   "metadata": {},
   "outputs": [
    {
     "name": "stdout",
     "output_type": "stream",
     "text": [
      "Epoch: 0, Train Accuracy: 20.6%, Train Loss:      inf, Test Accuracy: 18.2%, Test Loss:      inf\n"
     ]
    },
    {
     "ename": "RuntimeError",
     "evalue": "The size of tensor a (10) must match the size of tensor b (9) at non-singleton dimension 1",
     "output_type": "error",
     "traceback": [
      "\u001b[1;31m---------------------------------------------------------------------------\u001b[0m",
      "\u001b[1;31mRuntimeError\u001b[0m                              Traceback (most recent call last)",
      "Cell \u001b[1;32mIn[314], line 9\u001b[0m\n\u001b[0;32m      6\u001b[0m trainaccs, testaccs \u001b[38;5;241m=\u001b[39m [],[]\n\u001b[0;32m      8\u001b[0m \u001b[38;5;28;01mfor\u001b[39;00m epoch \u001b[38;5;129;01min\u001b[39;00m \u001b[38;5;28mrange\u001b[39m(epochs):\n\u001b[1;32m----> 9\u001b[0m     trainloss, trainacc \u001b[38;5;241m=\u001b[39m \u001b[43mtrain_epoch\u001b[49m\u001b[43m(\u001b[49m\u001b[43mmlp\u001b[49m\u001b[43m,\u001b[49m\u001b[43m \u001b[49m\u001b[43mmseloss\u001b[49m\u001b[43m,\u001b[49m\u001b[43m \u001b[49m\u001b[43mtrain_loader\u001b[49m\u001b[43m,\u001b[49m\u001b[43m \u001b[49m\u001b[43mlr\u001b[49m\u001b[43m)\u001b[49m\n\u001b[0;32m     10\u001b[0m     testloss, testacc \u001b[38;5;241m=\u001b[39m test_epoch(mlp, mseloss, test_loader)\n\u001b[0;32m     11\u001b[0m     trainlosses\u001b[38;5;241m.\u001b[39mappend(trainloss)\n",
      "Cell \u001b[1;32mIn[284], line 24\u001b[0m, in \u001b[0;36mtrain_epoch\u001b[1;34m(model, loss, dataloader, lr)\u001b[0m\n\u001b[0;32m     21\u001b[0m correct \u001b[38;5;241m+\u001b[39m\u001b[38;5;241m=\u001b[39m (z\u001b[38;5;241m.\u001b[39margmax(dim\u001b[38;5;241m=\u001b[39m\u001b[38;5;241m1\u001b[39m) \u001b[38;5;241m==\u001b[39m y)\u001b[38;5;241m.\u001b[39mtype(torch\u001b[38;5;241m.\u001b[39mfloat)\u001b[38;5;241m.\u001b[39msum()\u001b[38;5;241m.\u001b[39mitem()\n\u001b[0;32m     23\u001b[0m \u001b[38;5;66;03m# Backpropagation\u001b[39;00m\n\u001b[1;32m---> 24\u001b[0m dz \u001b[38;5;241m=\u001b[39m \u001b[43mloss\u001b[49m\u001b[38;5;241;43m.\u001b[39;49m\u001b[43mderivative\u001b[49m\u001b[43m(\u001b[49m\u001b[43mz\u001b[49m\u001b[43m,\u001b[49m\u001b[43my\u001b[49m\u001b[43m)\u001b[49m \u001b[38;5;66;03m# loss GRADIENT dL/d<model_output>\u001b[39;00m\n\u001b[0;32m     25\u001b[0m dx \u001b[38;5;241m=\u001b[39m model\u001b[38;5;241m.\u001b[39mbackward(dz)\n\u001b[0;32m     26\u001b[0m model\u001b[38;5;241m.\u001b[39mupdate(lr)\n",
      "Cell \u001b[1;32mIn[300], line 28\u001b[0m, in \u001b[0;36mCELoss.derivative\u001b[1;34m(self, z, y)\u001b[0m\n\u001b[0;32m     26\u001b[0m z_norm \u001b[38;5;241m=\u001b[39m torch\u001b[38;5;241m.\u001b[39msign(z) \u001b[38;5;241m*\u001b[39m torch\u001b[38;5;241m.\u001b[39mclamp(torch\u001b[38;5;241m.\u001b[39mabs(z), \u001b[38;5;241m1e-4\u001b[39m, \u001b[38;5;241m60\u001b[39m)\n\u001b[0;32m     27\u001b[0m s \u001b[38;5;241m=\u001b[39m torch\u001b[38;5;241m.\u001b[39mexp(z_norm)\u001b[38;5;241m/\u001b[39m torch\u001b[38;5;241m.\u001b[39msum(torch\u001b[38;5;241m.\u001b[39mexp(z_norm), dim \u001b[38;5;241m=\u001b[39m \u001b[38;5;241m1\u001b[39m)[:,\u001b[38;5;28;01mNone\u001b[39;00m]\n\u001b[1;32m---> 28\u001b[0m \u001b[38;5;28;01mreturn\u001b[39;00m \u001b[43ms\u001b[49m\u001b[38;5;241;43m-\u001b[39;49m\u001b[43mY_hat\u001b[49m\n",
      "\u001b[1;31mRuntimeError\u001b[0m: The size of tensor a (10) must match the size of tensor b (9) at non-singleton dimension 1"
     ]
    }
   ],
   "source": [
    "epochs = 10\n",
    "lr = 1.0\n",
    "mlp = MLP(28*28, [100,10])\n",
    "mseloss = CELoss()\n",
    "trainlosses, testlosses = [],[]\n",
    "trainaccs, testaccs = [],[]\n",
    "\n",
    "for epoch in range(epochs):\n",
    "    trainloss, trainacc = train_epoch(mlp, mseloss, train_loader, lr)\n",
    "    testloss, testacc = test_epoch(mlp, mseloss, test_loader)\n",
    "    trainlosses.append(trainloss)\n",
    "    testlosses.append(testloss)\n",
    "    trainaccs.append(trainacc)\n",
    "    testaccs.append(testacc)\n",
    "    print(f\"Epoch: {epoch}, Train Accuracy: {(100*trainacc):>0.1f}%, Train Loss: {trainloss:>8f}, Test Accuracy: {(100*testacc):>0.1f}%, Test Loss: {testloss:>8f}\")"
   ]
  },
  {
   "cell_type": "code",
   "execution_count": 23,
   "id": "8dad1661-b9f4-4048-8196-6b76df0a5925",
   "metadata": {},
   "outputs": [
    {
     "data": {
      "text/plain": [
       "Text(0.5, 1.0, 'Accuracy')"
      ]
     },
     "execution_count": 23,
     "metadata": {},
     "output_type": "execute_result"
    },
    {
     "data": {
      "image/png": "[encoded data removed]",
      "text/plain": [
       "<Figure size 432x288 with 1 Axes>"
      ]
     },
     "metadata": {
      "needs_background": "light"
     },
     "output_type": "display_data"
    },
    {
     "data": {
      "image/png": "[encoded data removed]",
      "text/plain": [
       "<Figure size 432x288 with 1 Axes>"
      ]
     },
     "metadata": {
      "needs_background": "light"
     },
     "output_type": "display_data"
    }
   ],
   "source": [
    "plt.figure(1)\n",
    "plt.plot(torch.arange(epochs), trainlosses,\"b-\")\n",
    "plt.plot(torch.arange(epochs), testlosses,\"r-\")\n",
    "plt.title(\"CE Loss\")\n",
    "\n",
    "plt.figure(2)\n",
    "plt.plot(torch.arange(epochs), trainaccs,\"b-\")\n",
    "plt.plot(torch.arange(epochs), testaccs,\"r-\")\n",
    "plt.ylim([0.7,1])\n",
    "plt.title(\"Accuracy\")\n"
   ]
  },
  {
   "cell_type": "code",
   "execution_count": null,
   "id": "060fec40-f14f-4ef0-b795-bbbee1f4776c",
   "metadata": {},
   "outputs": [],
   "source": []
  }
 ],
 "metadata": {
  "kernelspec": {
   "display_name": "Python 3 (ipykernel)",
   "language": "python",
   "name": "python3"
  },
  "language_info": {
   "codemirror_mode": {
    "name": "ipython",
    "version": 3
   },
   "file_extension": ".py",
   "mimetype": "text/x-python",
   "name": "python",
   "nbconvert_exporter": "python",
   "pygments_lexer": "ipython3",
   "version": "3.10.13"
  }
 },
 "nbformat": 4,
 "nbformat_minor": 5
}
